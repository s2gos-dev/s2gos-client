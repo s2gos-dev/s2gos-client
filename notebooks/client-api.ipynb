{
 "cells": [
  {
   "cell_type": "code",
   "execution_count": 1,
   "id": "8be0d24e-00ad-4ce0-8217-27a6747b5767",
   "metadata": {},
   "outputs": [],
   "source": [
    "from s2gos.client.api import Client, Execute"
   ]
  },
  {
   "cell_type": "code",
   "execution_count": 2,
   "id": "6c90402f-b2a2-4e1e-873c-8ceca7780ed6",
   "metadata": {},
   "outputs": [
    {
     "data": {
      "application/json": {
       "access_token": "1234",
       "server_url": "http://localhost:8008",
       "user_name": "forman"
      },
      "text/plain": [
       "<s2gos.client.api.client.Client at 0x1b19e45fa10>"
      ]
     },
     "execution_count": 2,
     "metadata": {
      "application/json": {
       "root": "Configuration:"
      }
     },
     "output_type": "execute_result"
    }
   ],
   "source": [
    "client = Client(debug=True)\n",
    "client"
   ]
  },
  {
   "cell_type": "code",
   "execution_count": 3,
   "id": "18cd3a18-73ee-411d-b6bb-8a63a9c2d95c",
   "metadata": {},
   "outputs": [
    {
     "data": {
      "application/json": {
       "description": "Local server implementing the OGC API - Processes 1.0 Standard",
       "links": [],
       "title": "S2GOS API Server (local)"
      },
      "text/plain": [
       "LandingPage(title='S2GOS API Server (local)', description='Local server implementing the OGC API - Processes 1.0 Standard', links=[])"
      ]
     },
     "execution_count": 3,
     "metadata": {
      "application/json": {
       "root": "LandingPage object:"
      }
     },
     "output_type": "execute_result"
    }
   ],
   "source": [
    "client.get_landing_page()"
   ]
  },
  {
   "cell_type": "code",
   "execution_count": 4,
   "id": "ed699a45-ff53-4278-8023-ee131f225088",
   "metadata": {},
   "outputs": [
    {
     "data": {
      "application/json": {
       "conformsTo": [
        "http://www.opengis.net/spec/ogcapi-processes-1/1.0/conf/core",
        "http://www.opengis.net/spec/ogcapi-processes-1/1.0/conf/ogc-process-description",
        "http://www.opengis.net/spec/ogcapi-processes-1/1.0/conf/json",
        "http://www.opengis.net/spec/ogcapi-processes-1/1.0/conf/oas30",
        "http://www.opengis.net/spec/ogcapi-processes-1/1.0/conf/job-list",
        "http://www.opengis.net/spec/ogcapi-processes-1/1.0/conf/dismiss"
       ]
      },
      "text/plain": [
       "ConfClasses(conformsTo=['http://www.opengis.net/spec/ogcapi-processes-1/1.0/conf/core', 'http://www.opengis.net/spec/ogcapi-processes-1/1.0/conf/ogc-process-description', 'http://www.opengis.net/spec/ogcapi-processes-1/1.0/conf/json', 'http://www.opengis.net/spec/ogcapi-processes-1/1.0/conf/oas30', 'http://www.opengis.net/spec/ogcapi-processes-1/1.0/conf/job-list', 'http://www.opengis.net/spec/ogcapi-processes-1/1.0/conf/dismiss'])"
      ]
     },
     "execution_count": 4,
     "metadata": {
      "application/json": {
       "root": "ConfClasses object:"
      }
     },
     "output_type": "execute_result"
    }
   ],
   "source": [
    "client.get_conformance_classes()"
   ]
  },
  {
   "cell_type": "code",
   "execution_count": 5,
   "id": "7154afcd-59a9-484f-8271-1b4773b8c636",
   "metadata": {},
   "outputs": [
    {
     "data": {
      "application/json": {
       "links": [],
       "processes": [
        {
         "additionalParameters": null,
         "description": "Computes 3.142, which will take ~3 seconds",
         "id": "process_0",
         "jobControlOptions": [
          "async-execute",
          "dismiss"
         ],
         "keywords": null,
         "links": null,
         "metadata": null,
         "outputTransmission": null,
         "title": "Computes constant 3.142",
         "version": "1.0"
        },
        {
         "additionalParameters": null,
         "description": "Computes 137.036, which will take ~10 seconds",
         "id": "process_1",
         "jobControlOptions": [
          "async-execute",
          "dismiss"
         ],
         "keywords": null,
         "links": null,
         "metadata": null,
         "outputTransmission": null,
         "title": "Computes constant 137.036",
         "version": "1.0"
        },
        {
         "additionalParameters": null,
         "description": "Computes 42.0, which will take ~60 seconds",
         "id": "process_2",
         "jobControlOptions": [
          "async-execute",
          "dismiss"
         ],
         "keywords": null,
         "links": null,
         "metadata": null,
         "outputTransmission": null,
         "title": "Computes constant 42.0",
         "version": "1.0"
        }
       ]
      },
      "text/plain": [
       "ProcessList(processes=[ProcessSummary(title='Computes constant 3.142', description='Computes 3.142, which will take ~3 seconds', keywords=None, metadata=None, additionalParameters=None, id='process_0', version='1.0', jobControlOptions=[<JobControlOptions.async_execute: 'async-execute'>, <JobControlOptions.dismiss: 'dismiss'>], outputTransmission=None, links=None), ProcessSummary(title='Computes constant 137.036', description='Computes 137.036, which will take ~10 seconds', keywords=None, metadata=None, additionalParameters=None, id='process_1', version='1.0', jobControlOptions=[<JobControlOptions.async_execute: 'async-execute'>, <JobControlOptions.dismiss: 'dismiss'>], outputTransmission=None, links=None), ProcessSummary(title='Computes constant 42.0', description='Computes 42.0, which will take ~60 seconds', keywords=None, metadata=None, additionalParameters=None, id='process_2', version='1.0', jobControlOptions=[<JobControlOptions.async_execute: 'async-execute'>, <JobControlOptions.dismiss: 'dismiss'>], outputTransmission=None, links=None)], links=[])"
      ]
     },
     "execution_count": 5,
     "metadata": {
      "application/json": {
       "root": "ProcessList object:"
      }
     },
     "output_type": "execute_result"
    }
   ],
   "source": [
    "client.get_processes()"
   ]
  },
  {
   "cell_type": "code",
   "execution_count": 6,
   "id": "a629ba21-e389-4131-ae84-2ce5c5fc7aa9",
   "metadata": {},
   "outputs": [
    {
     "data": {
      "application/json": {
       "additionalParameters": null,
       "description": "Computes 3.142, which will take ~3 seconds",
       "id": "process_0",
       "inputs": {
        "duration": {
         "additionalParameters": null,
         "description": null,
         "keywords": null,
         "maxOccurs": 1,
         "metadata": null,
         "minOccurs": 0,
         "schema_": {
          "additionalProperties": true,
          "allOf": null,
          "anyOf": null,
          "contentEncoding": null,
          "contentMediaType": null,
          "contentSchema": null,
          "default": 3,
          "deprecated": false,
          "description": null,
          "enum": null,
          "example": null,
          "exclusiveMaximum": false,
          "exclusiveMinimum": false,
          "format": null,
          "items": null,
          "maxItems": null,
          "maxLength": null,
          "maxProperties": null,
          "maximum": null,
          "minItems": 0,
          "minLength": 0,
          "minProperties": 0,
          "minimum": null,
          "multipleOf": null,
          "not_": null,
          "nullable": false,
          "oneOf": null,
          "pattern": null,
          "properties": null,
          "readOnly": false,
          "required": null,
          "title": null,
          "type": "number",
          "uniqueItems": false,
          "writeOnly": false
         },
         "title": "Duration of the process"
        },
        "fail": {
         "additionalParameters": null,
         "description": null,
         "keywords": null,
         "maxOccurs": 1,
         "metadata": null,
         "minOccurs": 0,
         "schema_": {
          "additionalProperties": true,
          "allOf": null,
          "anyOf": null,
          "contentEncoding": null,
          "contentMediaType": null,
          "contentSchema": null,
          "default": false,
          "deprecated": false,
          "description": null,
          "enum": null,
          "example": null,
          "exclusiveMaximum": false,
          "exclusiveMinimum": false,
          "format": null,
          "items": null,
          "maxItems": null,
          "maxLength": null,
          "maxProperties": null,
          "maximum": null,
          "minItems": 0,
          "minLength": 0,
          "minProperties": 0,
          "minimum": null,
          "multipleOf": null,
          "not_": null,
          "nullable": false,
          "oneOf": null,
          "pattern": null,
          "properties": null,
          "readOnly": false,
          "required": null,
          "title": null,
          "type": "boolean",
          "uniqueItems": false,
          "writeOnly": false
         },
         "title": "Whether to raise an error"
        }
       },
       "jobControlOptions": [
        "async-execute",
        "dismiss"
       ],
       "keywords": null,
       "links": null,
       "metadata": null,
       "outputTransmission": null,
       "outputs": {
        "result": {
         "additionalParameters": null,
         "description": null,
         "keywords": null,
         "metadata": null,
         "schema_": {
          "additionalProperties": true,
          "allOf": null,
          "anyOf": null,
          "contentEncoding": null,
          "contentMediaType": null,
          "contentSchema": null,
          "default": null,
          "deprecated": false,
          "description": null,
          "enum": null,
          "example": null,
          "exclusiveMaximum": false,
          "exclusiveMinimum": false,
          "format": null,
          "items": null,
          "maxItems": null,
          "maxLength": null,
          "maxProperties": null,
          "maximum": null,
          "minItems": 0,
          "minLength": 0,
          "minProperties": 0,
          "minimum": null,
          "multipleOf": null,
          "not_": null,
          "nullable": false,
          "oneOf": null,
          "pattern": null,
          "properties": null,
          "readOnly": false,
          "required": null,
          "title": null,
          "type": "number",
          "uniqueItems": false,
          "writeOnly": false
         },
         "title": "Result of the computation"
        }
       },
       "title": "Computes constant 3.142",
       "version": "1.0"
      },
      "text/plain": [
       "Process(title='Computes constant 3.142', description='Computes 3.142, which will take ~3 seconds', keywords=None, metadata=None, additionalParameters=None, id='process_0', version='1.0', jobControlOptions=[<JobControlOptions.async_execute: 'async-execute'>, <JobControlOptions.dismiss: 'dismiss'>], outputTransmission=None, links=None, inputs={'duration': InputDescription(title='Duration of the process', description=None, keywords=None, metadata=None, additionalParameters=None, minOccurs=0, maxOccurs=1, schema_=Schema(root=Schema1(title=None, multipleOf=None, maximum=None, exclusiveMaximum=False, minimum=None, exclusiveMinimum=False, maxLength=None, minLength=0, pattern=None, maxItems=None, minItems=0, uniqueItems=False, maxProperties=None, minProperties=0, required=None, enum=None, type=<Type1.number: 'number'>, not_=None, allOf=None, oneOf=None, anyOf=None, items=None, properties=None, additionalProperties=True, description=None, format=None, default=3, nullable=False, readOnly=False, writeOnly=False, example=None, deprecated=False, contentMediaType=None, contentEncoding=None, contentSchema=None))), 'fail': InputDescription(title='Whether to raise an error', description=None, keywords=None, metadata=None, additionalParameters=None, minOccurs=0, maxOccurs=1, schema_=Schema(root=Schema1(title=None, multipleOf=None, maximum=None, exclusiveMaximum=False, minimum=None, exclusiveMinimum=False, maxLength=None, minLength=0, pattern=None, maxItems=None, minItems=0, uniqueItems=False, maxProperties=None, minProperties=0, required=None, enum=None, type=<Type1.boolean: 'boolean'>, not_=None, allOf=None, oneOf=None, anyOf=None, items=None, properties=None, additionalProperties=True, description=None, format=None, default=False, nullable=False, readOnly=False, writeOnly=False, example=None, deprecated=False, contentMediaType=None, contentEncoding=None, contentSchema=None)))}, outputs={'result': OutputDescription(title='Result of the computation', description=None, keywords=None, metadata=None, additionalParameters=None, schema_=Schema(root=Schema1(title=None, multipleOf=None, maximum=None, exclusiveMaximum=False, minimum=None, exclusiveMinimum=False, maxLength=None, minLength=0, pattern=None, maxItems=None, minItems=0, uniqueItems=False, maxProperties=None, minProperties=0, required=None, enum=None, type=<Type1.number: 'number'>, not_=None, allOf=None, oneOf=None, anyOf=None, items=None, properties=None, additionalProperties=True, description=None, format=None, default=None, nullable=False, readOnly=False, writeOnly=False, example=None, deprecated=False, contentMediaType=None, contentEncoding=None, contentSchema=None)))})"
      ]
     },
     "execution_count": 6,
     "metadata": {
      "application/json": {
       "root": "Process object:"
      }
     },
     "output_type": "execute_result"
    }
   ],
   "source": [
    "client.get_process_description(process_id=\"process_0\")"
   ]
  },
  {
   "cell_type": "code",
   "execution_count": 7,
   "id": "e4e20f28-0ed4-4e30-9fcd-23238a7d06a0",
   "metadata": {},
   "outputs": [
    {
     "data": {
      "application/json": {
       "jobs": [],
       "links": []
      },
      "text/plain": [
       "JobList(jobs=[], links=[])"
      ]
     },
     "execution_count": 7,
     "metadata": {
      "application/json": {
       "root": "JobList object:"
      }
     },
     "output_type": "execute_result"
    }
   ],
   "source": [
    "client.get_jobs()"
   ]
  },
  {
   "cell_type": "code",
   "execution_count": 8,
   "id": "cc034916-02db-4ec2-8682-71710d54edf6",
   "metadata": {},
   "outputs": [
    {
     "name": "stderr",
     "output_type": "stream",
     "text": [
      "C:\\Users\\norma\\miniforge3\\envs\\s2gos\\Lib\\site-packages\\pydantic\\main.py:463: UserWarning: Pydantic serializer warnings:\n",
      "  PydanticSerializationUnexpectedValue(Expected `enum` - serialized value may not be as expected [input_value='raw', input_type=str])\n",
      "  return self.__pydantic_serializer__.to_python(\n"
     ]
    },
    {
     "data": {
      "application/json": {
       "created": "2025-06-09T10:13:18.811168",
       "finished": null,
       "jobID": "job_0",
       "links": null,
       "message": null,
       "processID": "process_0",
       "progress": 0,
       "started": "2025-06-09T10:13:18.812139",
       "status": "running",
       "type": "process",
       "updated": "2025-06-09T10:13:18.812188"
      },
      "text/plain": [
       "StatusInfo(processID='process_0', type=<Type.process: 'process'>, jobID='job_0', status=<StatusCode.running: 'running'>, message=None, created=datetime.datetime(2025, 6, 9, 10, 13, 18, 811168), started=datetime.datetime(2025, 6, 9, 10, 13, 18, 812139), finished=None, updated=datetime.datetime(2025, 6, 9, 10, 13, 18, 812188), progress=0, links=None)"
      ]
     },
     "execution_count": 8,
     "metadata": {
      "application/json": {
       "root": "StatusInfo object:"
      }
     },
     "output_type": "execute_result"
    }
   ],
   "source": [
    "client.execute(process_id=\"process_0\", request=Execute())"
   ]
  },
  {
   "cell_type": "code",
   "execution_count": 9,
   "id": "4cd38b1d-5989-4991-9b62-d1981d33a46e",
   "metadata": {},
   "outputs": [
    {
     "data": {
      "application/json": {
       "created": "2025-06-09T10:13:20.924166",
       "finished": null,
       "jobID": "job_1",
       "links": null,
       "message": null,
       "processID": "process_0",
       "progress": 0,
       "started": "2025-06-09T10:13:20.926357",
       "status": "running",
       "type": "process",
       "updated": "2025-06-09T10:13:20.926368"
      },
      "text/plain": [
       "StatusInfo(processID='process_0', type=<Type.process: 'process'>, jobID='job_1', status=<StatusCode.running: 'running'>, message=None, created=datetime.datetime(2025, 6, 9, 10, 13, 20, 924166), started=datetime.datetime(2025, 6, 9, 10, 13, 20, 926357), finished=None, updated=datetime.datetime(2025, 6, 9, 10, 13, 20, 926368), progress=0, links=None)"
      ]
     },
     "execution_count": 9,
     "metadata": {
      "application/json": {
       "root": "StatusInfo object:"
      }
     },
     "output_type": "execute_result"
    }
   ],
   "source": [
    "client.execute(process_id=\"process_0\", request={})"
   ]
  },
  {
   "cell_type": "code",
   "execution_count": 10,
   "id": "9cf5e867-d91e-45dd-91b3-a54bc2d087a7",
   "metadata": {},
   "outputs": [
    {
     "data": {
      "application/json": {
       "jobs": [
        {
         "created": "2025-06-09T10:13:18.811168",
         "finished": "2025-06-09T10:13:22.092534",
         "jobID": "job_0",
         "links": null,
         "message": null,
         "processID": "process_0",
         "progress": 100,
         "started": "2025-06-09T10:13:18.812139",
         "status": "successful",
         "type": "process",
         "updated": "2025-06-09T10:13:22.061980"
        },
        {
         "created": "2025-06-09T10:13:20.924166",
         "finished": null,
         "jobID": "job_1",
         "links": null,
         "message": null,
         "processID": "process_0",
         "progress": 67,
         "started": "2025-06-09T10:13:20.926357",
         "status": "running",
         "type": "process",
         "updated": "2025-06-09T10:13:23.028445"
        }
       ],
       "links": []
      },
      "text/plain": [
       "JobList(jobs=[StatusInfo(processID='process_0', type=<Type.process: 'process'>, jobID='job_0', status=<StatusCode.successful: 'successful'>, message=None, created=datetime.datetime(2025, 6, 9, 10, 13, 18, 811168), started=datetime.datetime(2025, 6, 9, 10, 13, 18, 812139), finished=datetime.datetime(2025, 6, 9, 10, 13, 22, 92534), updated=datetime.datetime(2025, 6, 9, 10, 13, 22, 61980), progress=100, links=None), StatusInfo(processID='process_0', type=<Type.process: 'process'>, jobID='job_1', status=<StatusCode.running: 'running'>, message=None, created=datetime.datetime(2025, 6, 9, 10, 13, 20, 924166), started=datetime.datetime(2025, 6, 9, 10, 13, 20, 926357), finished=None, updated=datetime.datetime(2025, 6, 9, 10, 13, 23, 28445), progress=67, links=None)], links=[])"
      ]
     },
     "execution_count": 10,
     "metadata": {
      "application/json": {
       "root": "JobList object:"
      }
     },
     "output_type": "execute_result"
    }
   ],
   "source": [
    "client.get_jobs()"
   ]
  },
  {
   "cell_type": "code",
   "execution_count": null,
   "id": "736d52d8-d91a-435b-8dfb-b016a5139201",
   "metadata": {},
   "outputs": [],
   "source": []
  }
 ],
 "metadata": {
  "kernelspec": {
   "display_name": "Python 3 (ipykernel)",
   "language": "python",
   "name": "python3"
  },
  "language_info": {
   "codemirror_mode": {
    "name": "ipython",
    "version": 3
   },
   "file_extension": ".py",
   "mimetype": "text/x-python",
   "name": "python",
   "nbconvert_exporter": "python",
   "pygments_lexer": "ipython3",
   "version": "3.13.3"
  }
 },
 "nbformat": 4,
 "nbformat_minor": 5
}
