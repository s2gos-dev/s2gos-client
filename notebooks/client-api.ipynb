{
 "cells": [
  {
   "cell_type": "markdown",
   "id": "ed01d1e5-12e4-4fe8-9e1a-e57f0bb7a7da",
   "metadata": {},
   "source": [
    "Before running this notebook, please run\n",
    "\n",
    "```bash\n",
    "s2gos-server run --service=s2gos.server.local.dummy:service\n",
    "```"
   ]
  },
  {
   "cell_type": "code",
   "execution_count": 1,
   "id": "8be0d24e-00ad-4ce0-8217-27a6747b5767",
   "metadata": {},
   "outputs": [],
   "source": [
    "from s2gos.client import Client\n",
    "from s2gos.common.models import ProcessRequest"
   ]
  },
  {
   "cell_type": "code",
   "execution_count": 2,
   "id": "6c90402f-b2a2-4e1e-873c-8ceca7780ed6",
   "metadata": {},
   "outputs": [
    {
     "data": {
      "application/json": {
       "access_token": "30948305",
       "server_url": "http://127.0.0.1:8008",
       "user_name": "forman"
      },
      "text/plain": [
       "<s2gos.client.client.Client at 0x1d4862f0ad0>"
      ]
     },
     "execution_count": 2,
     "metadata": {
      "application/json": {
       "root": "Configuration:"
      }
     },
     "output_type": "execute_result"
    }
   ],
   "source": [
    "client = Client(debug=True)\n",
    "client"
   ]
  },
  {
   "cell_type": "code",
   "execution_count": 3,
   "id": "18cd3a18-73ee-411d-b6bb-8a63a9c2d95c",
   "metadata": {},
   "outputs": [
    {
     "data": {
      "application/json": {
       "description": "Local test server implementing the OGC API - Processes 1.0 Standard",
       "links": [],
       "title": "S2GOS API Server (local dummy for testing)"
      },
      "text/plain": [
       "Capabilities(title='S2GOS API Server (local dummy for testing)', description='Local test server implementing the OGC API - Processes 1.0 Standard', links=[])"
      ]
     },
     "execution_count": 3,
     "metadata": {
      "application/json": {
       "root": "Capabilities object:"
      }
     },
     "output_type": "execute_result"
    }
   ],
   "source": [
    "client.get_capabilities()"
   ]
  },
  {
   "cell_type": "code",
   "execution_count": 4,
   "id": "ed699a45-ff53-4278-8023-ee131f225088",
   "metadata": {},
   "outputs": [
    {
     "data": {
      "application/json": {
       "conformsTo": [
        "http://www.opengis.net/spec/ogcapi-processes-1/1.0/conf/core",
        "http://www.opengis.net/spec/ogcapi-processes-1/1.0/conf/ogc-process-description",
        "http://www.opengis.net/spec/ogcapi-processes-1/1.0/conf/json",
        "http://www.opengis.net/spec/ogcapi-processes-1/1.0/conf/oas30",
        "http://www.opengis.net/spec/ogcapi-processes-1/1.0/conf/job-list",
        "http://www.opengis.net/spec/ogcapi-processes-1/1.0/conf/dismiss"
       ]
      },
      "text/plain": [
       "ConformanceDeclaration(conformsTo=['http://www.opengis.net/spec/ogcapi-processes-1/1.0/conf/core', 'http://www.opengis.net/spec/ogcapi-processes-1/1.0/conf/ogc-process-description', 'http://www.opengis.net/spec/ogcapi-processes-1/1.0/conf/json', 'http://www.opengis.net/spec/ogcapi-processes-1/1.0/conf/oas30', 'http://www.opengis.net/spec/ogcapi-processes-1/1.0/conf/job-list', 'http://www.opengis.net/spec/ogcapi-processes-1/1.0/conf/dismiss'])"
      ]
     },
     "execution_count": 4,
     "metadata": {
      "application/json": {
       "root": "ConformanceDeclaration object:"
      }
     },
     "output_type": "execute_result"
    }
   ],
   "source": [
    "client.get_conformance()"
   ]
  },
  {
   "cell_type": "code",
   "execution_count": 5,
   "id": "7154afcd-59a9-484f-8271-1b4773b8c636",
   "metadata": {},
   "outputs": [
    {
     "data": {
      "application/json": {
       "links": [],
       "processes": [
        {
         "description": "Creates an xarray dataset and writes it as Zarr into a temporary location. Requires installed dask, xarray, and zarr packages.",
         "id": "create_datacube",
         "title": "Generate a dummy datacube for testing",
         "version": "0.0.0"
        },
        {
         "description": "Sleeps for `duration` seconds. Fails on purpose if `fail` is `True`. Returns the effective amount of sleep in seconds.",
         "id": "sleep_a_while",
         "title": "Sleep Processor",
         "version": "0.0.0"
        },
        {
         "description": "Returns the list of prime numbers between a `min_val` and `max_val`. ",
         "id": "primes_between",
         "title": "Prime Processor",
         "version": "0.0.0"
        }
       ]
      },
      "text/plain": [
       "ProcessList(processes=[ProcessSummary(title='Generate a dummy datacube for testing', description='Creates an xarray dataset and writes it as Zarr into a temporary location. Requires installed dask, xarray, and zarr packages.', keywords=None, metadata=None, additionalParameters=None, id='create_datacube', version='0.0.0', jobControlOptions=None, outputTransmission=None, links=None), ProcessSummary(title='Sleep Processor', description='Sleeps for `duration` seconds. Fails on purpose if `fail` is `True`. Returns the effective amount of sleep in seconds.', keywords=None, metadata=None, additionalParameters=None, id='sleep_a_while', version='0.0.0', jobControlOptions=None, outputTransmission=None, links=None), ProcessSummary(title='Prime Processor', description='Returns the list of prime numbers between a `min_val` and `max_val`. ', keywords=None, metadata=None, additionalParameters=None, id='primes_between', version='0.0.0', jobControlOptions=None, outputTransmission=None, links=None)], links=[])"
      ]
     },
     "execution_count": 5,
     "metadata": {
      "application/json": {
       "root": "ProcessList object:"
      }
     },
     "output_type": "execute_result"
    }
   ],
   "source": [
    "client.get_processes()"
   ]
  },
  {
   "cell_type": "code",
   "execution_count": 6,
   "id": "a629ba21-e389-4131-ae84-2ce5c5fc7aa9",
   "metadata": {},
   "outputs": [
    {
     "data": {
      "application/json": {
       "description": "Sleeps for `duration` seconds. Fails on purpose if `fail` is `True`. Returns the effective amount of sleep in seconds.",
       "id": "sleep_a_while",
       "inputs": {
        "duration": {
         "minOccurs": 1,
         "schema": {
          "additionalProperties": true,
          "default": 10,
          "deprecated": false,
          "exclusiveMaximum": false,
          "exclusiveMinimum": false,
          "minItems": 0,
          "minLength": 0,
          "minProperties": 0,
          "nullable": false,
          "readOnly": false,
          "type": "number",
          "uniqueItems": false,
          "writeOnly": false
         }
        },
        "fail": {
         "minOccurs": 1,
         "schema": {
          "additionalProperties": true,
          "default": false,
          "deprecated": false,
          "exclusiveMaximum": false,
          "exclusiveMinimum": false,
          "minItems": 0,
          "minLength": 0,
          "minProperties": 0,
          "nullable": false,
          "readOnly": false,
          "type": "boolean",
          "uniqueItems": false,
          "writeOnly": false
         }
        }
       },
       "outputs": {
        "result": {
         "schema": {
          "additionalProperties": true,
          "deprecated": false,
          "exclusiveMaximum": false,
          "exclusiveMinimum": false,
          "minItems": 0,
          "minLength": 0,
          "minProperties": 0,
          "nullable": false,
          "readOnly": false,
          "type": "number",
          "uniqueItems": false,
          "writeOnly": false
         }
        }
       },
       "title": "Sleep Processor",
       "version": "0.0.0"
      },
      "text/plain": [
       "ProcessDescription(title='Sleep Processor', description='Sleeps for `duration` seconds. Fails on purpose if `fail` is `True`. Returns the effective amount of sleep in seconds.', keywords=None, metadata=None, additionalParameters=None, id='sleep_a_while', version='0.0.0', jobControlOptions=None, outputTransmission=None, links=None, inputs={'duration': InputDescription(title=None, description=None, keywords=None, metadata=None, additionalParameters=None, minOccurs=1, maxOccurs=None, schema_=Schema(title=None, multipleOf=None, maximum=None, exclusiveMaximum=False, minimum=None, exclusiveMinimum=False, maxLength=None, minLength=0, pattern=None, maxItems=None, minItems=0, uniqueItems=False, maxProperties=None, minProperties=0, required=None, enum=None, type=<Type1.number: 'number'>, not_=None, allOf=None, oneOf=None, anyOf=None, items=None, properties=None, additionalProperties=True, description=None, format=None, default=10.0, nullable=False, readOnly=False, writeOnly=False, example=None, deprecated=False, contentMediaType=None, contentEncoding=None, contentSchema=None)), 'fail': InputDescription(title=None, description=None, keywords=None, metadata=None, additionalParameters=None, minOccurs=1, maxOccurs=None, schema_=Schema(title=None, multipleOf=None, maximum=None, exclusiveMaximum=False, minimum=None, exclusiveMinimum=False, maxLength=None, minLength=0, pattern=None, maxItems=None, minItems=0, uniqueItems=False, maxProperties=None, minProperties=0, required=None, enum=None, type=<Type1.boolean: 'boolean'>, not_=None, allOf=None, oneOf=None, anyOf=None, items=None, properties=None, additionalProperties=True, description=None, format=None, default=False, nullable=False, readOnly=False, writeOnly=False, example=None, deprecated=False, contentMediaType=None, contentEncoding=None, contentSchema=None))}, outputs={'result': OutputDescription(title=None, description=None, keywords=None, metadata=None, additionalParameters=None, schema_=Schema(title=None, multipleOf=None, maximum=None, exclusiveMaximum=False, minimum=None, exclusiveMinimum=False, maxLength=None, minLength=0, pattern=None, maxItems=None, minItems=0, uniqueItems=False, maxProperties=None, minProperties=0, required=None, enum=None, type=<Type1.number: 'number'>, not_=None, allOf=None, oneOf=None, anyOf=None, items=None, properties=None, additionalProperties=True, description=None, format=None, default=None, nullable=False, readOnly=False, writeOnly=False, example=None, deprecated=False, contentMediaType=None, contentEncoding=None, contentSchema=None))})"
      ]
     },
     "execution_count": 6,
     "metadata": {
      "application/json": {
       "root": "ProcessDescription object:"
      }
     },
     "output_type": "execute_result"
    }
   ],
   "source": [
    "client.get_process(process_id=\"sleep_a_while\")"
   ]
  },
  {
   "cell_type": "code",
   "execution_count": 7,
   "id": "e4e20f28-0ed4-4e30-9fcd-23238a7d06a0",
   "metadata": {},
   "outputs": [
    {
     "data": {
      "application/json": {
       "jobs": [
        {
         "created": "2025-06-23T18:13:51.996033",
         "finished": "2025-06-23T18:14:02.157247",
         "jobID": "job_0",
         "processID": "sleep_a_while",
         "progress": 100,
         "started": "2025-06-23T18:13:51.998413",
         "status": "successful",
         "type": "process",
         "updated": "2025-06-23T18:14:02.056884"
        },
        {
         "created": "2025-06-23T18:13:52.011261",
         "finished": "2025-06-23T18:13:57.053602",
         "jobID": "job_1",
         "message": "Woke up too early",
         "processID": "sleep_a_while",
         "progress": 50,
         "started": "2025-06-23T18:13:52.011952",
         "status": "failed",
         "traceback": [
          "Traceback (most recent call last):\n",
          "  File \"C:\\Users\\norma\\Projects\\s2gos-client\\s2gos\\server\\services\\local\\job.py\", line 126, in run\n    result = self.function(**self.function_kwargs)\n",
          "  File \"C:\\Users\\norma\\Projects\\s2gos-client\\s2gos\\server\\services\\local\\testing.py\", line 133, in sleep_a_while\n    raise RuntimeError(\"Woke up too early\")\n",
          "RuntimeError: Woke up too early\n"
         ],
         "type": "process",
         "updated": "2025-06-23T18:13:57.053563"
        },
        {
         "created": "2025-06-23T18:13:52.020976",
         "jobID": "job_2",
         "processID": "sleep_a_while",
         "progress": 28,
         "started": "2025-06-23T18:13:52.021554",
         "status": "running",
         "type": "process",
         "updated": "2025-06-23T18:14:25.705741"
        }
       ],
       "links": []
      },
      "text/plain": [
       "JobList(jobs=[JobInfo(processID='sleep_a_while', type=<Type.process: 'process'>, jobID='job_0', status=<StatusCode.successful: 'successful'>, message=None, created=datetime.datetime(2025, 6, 23, 18, 13, 51, 996033), started=datetime.datetime(2025, 6, 23, 18, 13, 51, 998413), finished=datetime.datetime(2025, 6, 23, 18, 14, 2, 157247), updated=datetime.datetime(2025, 6, 23, 18, 14, 2, 56884), progress=100, links=None, traceback=None), JobInfo(processID='sleep_a_while', type=<Type.process: 'process'>, jobID='job_1', status=<StatusCode.failed: 'failed'>, message='Woke up too early', created=datetime.datetime(2025, 6, 23, 18, 13, 52, 11261), started=datetime.datetime(2025, 6, 23, 18, 13, 52, 11952), finished=datetime.datetime(2025, 6, 23, 18, 13, 57, 53602), updated=datetime.datetime(2025, 6, 23, 18, 13, 57, 53563), progress=50, links=None, traceback=['Traceback (most recent call last):\\n', '  File \"C:\\\\Users\\\\norma\\\\Projects\\\\s2gos-client\\\\s2gos\\\\server\\\\services\\\\local\\\\job.py\", line 126, in run\\n    result = self.function(**self.function_kwargs)\\n', '  File \"C:\\\\Users\\\\norma\\\\Projects\\\\s2gos-client\\\\s2gos\\\\server\\\\services\\\\local\\\\testing.py\", line 133, in sleep_a_while\\n    raise RuntimeError(\"Woke up too early\")\\n', 'RuntimeError: Woke up too early\\n']), JobInfo(processID='sleep_a_while', type=<Type.process: 'process'>, jobID='job_2', status=<StatusCode.running: 'running'>, message=None, created=datetime.datetime(2025, 6, 23, 18, 13, 52, 20976), started=datetime.datetime(2025, 6, 23, 18, 13, 52, 21554), finished=None, updated=datetime.datetime(2025, 6, 23, 18, 14, 25, 705741), progress=28, links=None, traceback=None)], links=[])"
      ]
     },
     "execution_count": 7,
     "metadata": {
      "application/json": {
       "root": "JobList object:"
      }
     },
     "output_type": "execute_result"
    }
   ],
   "source": [
    "client.get_jobs()"
   ]
  },
  {
   "cell_type": "code",
   "execution_count": 8,
   "id": "cc034916-02db-4ec2-8682-71710d54edf6",
   "metadata": {},
   "outputs": [
    {
     "data": {
      "application/json": {
       "created": "2025-06-23T18:14:26.336097",
       "jobID": "job_3",
       "processID": "sleep_a_while",
       "status": "accepted",
       "type": "process"
      },
      "text/plain": [
       "JobInfo(processID='sleep_a_while', type=<Type.process: 'process'>, jobID='job_3', status=<StatusCode.accepted: 'accepted'>, message=None, created=datetime.datetime(2025, 6, 23, 18, 14, 26, 336097), started=None, finished=None, updated=None, progress=None, links=None, traceback=None)"
      ]
     },
     "execution_count": 8,
     "metadata": {
      "application/json": {
       "root": "JobInfo object:"
      }
     },
     "output_type": "execute_result"
    }
   ],
   "source": [
    "client.execute_process(process_id=\"sleep_a_while\", request=ProcessRequest())"
   ]
  },
  {
   "cell_type": "code",
   "execution_count": 9,
   "id": "4cd38b1d-5989-4991-9b62-d1981d33a46e",
   "metadata": {},
   "outputs": [
    {
     "data": {
      "application/json": {
       "created": "2025-06-23T18:14:26.363394",
       "jobID": "job_4",
       "processID": "sleep_a_while",
       "status": "accepted",
       "type": "process"
      },
      "text/plain": [
       "JobInfo(processID='sleep_a_while', type=<Type.process: 'process'>, jobID='job_4', status=<StatusCode.accepted: 'accepted'>, message=None, created=datetime.datetime(2025, 6, 23, 18, 14, 26, 363394), started=None, finished=None, updated=None, progress=None, links=None, traceback=None)"
      ]
     },
     "execution_count": 9,
     "metadata": {
      "application/json": {
       "root": "JobInfo object:"
      }
     },
     "output_type": "execute_result"
    }
   ],
   "source": [
    "client.execute_process(process_id=\"sleep_a_while\", request={})"
   ]
  },
  {
   "cell_type": "code",
   "execution_count": 10,
   "id": "9cf5e867-d91e-45dd-91b3-a54bc2d087a7",
   "metadata": {},
   "outputs": [
    {
     "data": {
      "application/json": {
       "jobs": [
        {
         "created": "2025-06-23T18:13:51.996033",
         "finished": "2025-06-23T18:14:02.157247",
         "jobID": "job_0",
         "processID": "sleep_a_while",
         "progress": 100,
         "started": "2025-06-23T18:13:51.998413",
         "status": "successful",
         "type": "process",
         "updated": "2025-06-23T18:14:02.056884"
        },
        {
         "created": "2025-06-23T18:13:52.011261",
         "finished": "2025-06-23T18:13:57.053602",
         "jobID": "job_1",
         "message": "Woke up too early",
         "processID": "sleep_a_while",
         "progress": 50,
         "started": "2025-06-23T18:13:52.011952",
         "status": "failed",
         "traceback": [
          "Traceback (most recent call last):\n",
          "  File \"C:\\Users\\norma\\Projects\\s2gos-client\\s2gos\\server\\services\\local\\job.py\", line 126, in run\n    result = self.function(**self.function_kwargs)\n",
          "  File \"C:\\Users\\norma\\Projects\\s2gos-client\\s2gos\\server\\services\\local\\testing.py\", line 133, in sleep_a_while\n    raise RuntimeError(\"Woke up too early\")\n",
          "RuntimeError: Woke up too early\n"
         ],
         "type": "process",
         "updated": "2025-06-23T18:13:57.053563"
        },
        {
         "created": "2025-06-23T18:13:52.020976",
         "jobID": "job_2",
         "processID": "sleep_a_while",
         "progress": 28,
         "started": "2025-06-23T18:13:52.021554",
         "status": "running",
         "type": "process",
         "updated": "2025-06-23T18:14:25.705741"
        },
        {
         "created": "2025-06-23T18:14:26.336097",
         "jobID": "job_3",
         "processID": "sleep_a_while",
         "progress": 0,
         "started": "2025-06-23T18:14:26.337111",
         "status": "running",
         "type": "process",
         "updated": "2025-06-23T18:14:26.337201"
        },
        {
         "created": "2025-06-23T18:14:26.363394",
         "jobID": "job_4",
         "processID": "sleep_a_while",
         "progress": 0,
         "started": "2025-06-23T18:14:26.364620",
         "status": "running",
         "type": "process",
         "updated": "2025-06-23T18:14:26.364686"
        }
       ],
       "links": []
      },
      "text/plain": [
       "JobList(jobs=[JobInfo(processID='sleep_a_while', type=<Type.process: 'process'>, jobID='job_0', status=<StatusCode.successful: 'successful'>, message=None, created=datetime.datetime(2025, 6, 23, 18, 13, 51, 996033), started=datetime.datetime(2025, 6, 23, 18, 13, 51, 998413), finished=datetime.datetime(2025, 6, 23, 18, 14, 2, 157247), updated=datetime.datetime(2025, 6, 23, 18, 14, 2, 56884), progress=100, links=None, traceback=None), JobInfo(processID='sleep_a_while', type=<Type.process: 'process'>, jobID='job_1', status=<StatusCode.failed: 'failed'>, message='Woke up too early', created=datetime.datetime(2025, 6, 23, 18, 13, 52, 11261), started=datetime.datetime(2025, 6, 23, 18, 13, 52, 11952), finished=datetime.datetime(2025, 6, 23, 18, 13, 57, 53602), updated=datetime.datetime(2025, 6, 23, 18, 13, 57, 53563), progress=50, links=None, traceback=['Traceback (most recent call last):\\n', '  File \"C:\\\\Users\\\\norma\\\\Projects\\\\s2gos-client\\\\s2gos\\\\server\\\\services\\\\local\\\\job.py\", line 126, in run\\n    result = self.function(**self.function_kwargs)\\n', '  File \"C:\\\\Users\\\\norma\\\\Projects\\\\s2gos-client\\\\s2gos\\\\server\\\\services\\\\local\\\\testing.py\", line 133, in sleep_a_while\\n    raise RuntimeError(\"Woke up too early\")\\n', 'RuntimeError: Woke up too early\\n']), JobInfo(processID='sleep_a_while', type=<Type.process: 'process'>, jobID='job_2', status=<StatusCode.running: 'running'>, message=None, created=datetime.datetime(2025, 6, 23, 18, 13, 52, 20976), started=datetime.datetime(2025, 6, 23, 18, 13, 52, 21554), finished=None, updated=datetime.datetime(2025, 6, 23, 18, 14, 25, 705741), progress=28, links=None, traceback=None), JobInfo(processID='sleep_a_while', type=<Type.process: 'process'>, jobID='job_3', status=<StatusCode.running: 'running'>, message=None, created=datetime.datetime(2025, 6, 23, 18, 14, 26, 336097), started=datetime.datetime(2025, 6, 23, 18, 14, 26, 337111), finished=None, updated=datetime.datetime(2025, 6, 23, 18, 14, 26, 337201), progress=0, links=None, traceback=None), JobInfo(processID='sleep_a_while', type=<Type.process: 'process'>, jobID='job_4', status=<StatusCode.running: 'running'>, message=None, created=datetime.datetime(2025, 6, 23, 18, 14, 26, 363394), started=datetime.datetime(2025, 6, 23, 18, 14, 26, 364620), finished=None, updated=datetime.datetime(2025, 6, 23, 18, 14, 26, 364686), progress=0, links=None, traceback=None)], links=[])"
      ]
     },
     "execution_count": 10,
     "metadata": {
      "application/json": {
       "root": "JobList object:"
      }
     },
     "output_type": "execute_result"
    }
   ],
   "source": [
    "client.get_jobs()"
   ]
  },
  {
   "cell_type": "code",
   "execution_count": 11,
   "id": "736d52d8-d91a-435b-8dfb-b016a5139201",
   "metadata": {},
   "outputs": [],
   "source": [
    "for job in client.get_jobs().jobs:\n",
    "    client.dismiss_job(job.jobID)"
   ]
  },
  {
   "cell_type": "code",
   "execution_count": 12,
   "id": "4636fdfc-3f61-40b4-889e-497c2dd50d91",
   "metadata": {},
   "outputs": [
    {
     "data": {
      "application/json": {
       "jobs": [
        {
         "created": "2025-06-23T18:13:52.020976",
         "jobID": "job_2",
         "processID": "sleep_a_while",
         "progress": 28,
         "started": "2025-06-23T18:13:52.021554",
         "status": "running",
         "type": "process",
         "updated": "2025-06-23T18:14:25.705741"
        },
        {
         "created": "2025-06-23T18:14:26.336097",
         "jobID": "job_3",
         "processID": "sleep_a_while",
         "progress": 1,
         "started": "2025-06-23T18:14:26.337111",
         "status": "running",
         "type": "process",
         "updated": "2025-06-23T18:14:26.438141"
        },
        {
         "created": "2025-06-23T18:14:26.363394",
         "finished": "2025-06-23T18:14:26.464981",
         "jobID": "job_4",
         "processID": "sleep_a_while",
         "progress": 0,
         "started": "2025-06-23T18:14:26.364620",
         "status": "dismissed",
         "type": "process",
         "updated": "2025-06-23T18:14:26.364686"
        }
       ],
       "links": []
      },
      "text/plain": [
       "JobList(jobs=[JobInfo(processID='sleep_a_while', type=<Type.process: 'process'>, jobID='job_2', status=<StatusCode.running: 'running'>, message=None, created=datetime.datetime(2025, 6, 23, 18, 13, 52, 20976), started=datetime.datetime(2025, 6, 23, 18, 13, 52, 21554), finished=None, updated=datetime.datetime(2025, 6, 23, 18, 14, 25, 705741), progress=28, links=None, traceback=None), JobInfo(processID='sleep_a_while', type=<Type.process: 'process'>, jobID='job_3', status=<StatusCode.running: 'running'>, message=None, created=datetime.datetime(2025, 6, 23, 18, 14, 26, 336097), started=datetime.datetime(2025, 6, 23, 18, 14, 26, 337111), finished=None, updated=datetime.datetime(2025, 6, 23, 18, 14, 26, 438141), progress=1, links=None, traceback=None), JobInfo(processID='sleep_a_while', type=<Type.process: 'process'>, jobID='job_4', status=<StatusCode.dismissed: 'dismissed'>, message=None, created=datetime.datetime(2025, 6, 23, 18, 14, 26, 363394), started=datetime.datetime(2025, 6, 23, 18, 14, 26, 364620), finished=datetime.datetime(2025, 6, 23, 18, 14, 26, 464981), updated=datetime.datetime(2025, 6, 23, 18, 14, 26, 364686), progress=0, links=None, traceback=None)], links=[])"
      ]
     },
     "execution_count": 12,
     "metadata": {
      "application/json": {
       "root": "JobList object:"
      }
     },
     "output_type": "execute_result"
    }
   ],
   "source": [
    "client.get_jobs()"
   ]
  },
  {
   "cell_type": "code",
   "execution_count": null,
   "id": "4bdb0e32-e041-401a-a25f-f9fe9bcbfdcf",
   "metadata": {},
   "outputs": [],
   "source": []
  }
 ],
 "metadata": {
  "kernelspec": {
   "display_name": "Python 3 (ipykernel)",
   "language": "python",
   "name": "python3"
  },
  "language_info": {
   "codemirror_mode": {
    "name": "ipython",
    "version": 3
   },
   "file_extension": ".py",
   "mimetype": "text/x-python",
   "name": "python",
   "nbconvert_exporter": "python",
   "pygments_lexer": "ipython3",
   "version": "3.13.3"
  }
 },
 "nbformat": 4,
 "nbformat_minor": 5
}
