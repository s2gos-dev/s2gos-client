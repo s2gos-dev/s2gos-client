{
 "cells": [
  {
   "cell_type": "markdown",
   "id": "ed01d1e5-12e4-4fe8-9e1a-e57f0bb7a7da",
   "metadata": {},
   "source": [
    "Before running this notebook, please run\n",
    "\n",
    "```bash\n",
    "s2gos-server run --service=s2gos.server.local.dummy:service\n",
    "```"
   ]
  },
  {
   "cell_type": "code",
   "execution_count": 1,
   "id": "8be0d24e-00ad-4ce0-8217-27a6747b5767",
   "metadata": {},
   "outputs": [],
   "source": [
    "from s2gos.client import Client\n",
    "from s2gos.common.models import Execute"
   ]
  },
  {
   "cell_type": "code",
   "execution_count": 2,
   "id": "6c90402f-b2a2-4e1e-873c-8ceca7780ed6",
   "metadata": {},
   "outputs": [
    {
     "data": {
      "application/json": {
       "access_token": "1234",
       "server_url": "http://localhost:8008",
       "user_name": "forman"
      },
      "text/plain": [
       "<s2gos.client.client.Client at 0x258214c06e0>"
      ]
     },
     "execution_count": 2,
     "metadata": {
      "application/json": {
       "root": "Configuration:"
      }
     },
     "output_type": "execute_result"
    }
   ],
   "source": [
    "client = Client(debug=True)\n",
    "client"
   ]
  },
  {
   "cell_type": "code",
   "execution_count": 3,
   "id": "18cd3a18-73ee-411d-b6bb-8a63a9c2d95c",
   "metadata": {},
   "outputs": [
    {
     "data": {
      "application/json": {
       "description": "Local test server implementing the OGC API - Processes 1.0 Standard",
       "links": [],
       "title": "S2GOS API Server (local dummy for testing)"
      },
      "text/plain": [
       "LandingPage(title='S2GOS API Server (local dummy for testing)', description='Local test server implementing the OGC API - Processes 1.0 Standard', links=[])"
      ]
     },
     "execution_count": 3,
     "metadata": {
      "application/json": {
       "root": "LandingPage object:"
      }
     },
     "output_type": "execute_result"
    }
   ],
   "source": [
    "client.get_landing_page()"
   ]
  },
  {
   "cell_type": "code",
   "execution_count": 4,
   "id": "ed699a45-ff53-4278-8023-ee131f225088",
   "metadata": {},
   "outputs": [
    {
     "data": {
      "application/json": {
       "conformsTo": [
        "http://www.opengis.net/spec/ogcapi-processes-1/1.0/conf/core",
        "http://www.opengis.net/spec/ogcapi-processes-1/1.0/conf/ogc-process-description",
        "http://www.opengis.net/spec/ogcapi-processes-1/1.0/conf/json",
        "http://www.opengis.net/spec/ogcapi-processes-1/1.0/conf/oas30",
        "http://www.opengis.net/spec/ogcapi-processes-1/1.0/conf/job-list",
        "http://www.opengis.net/spec/ogcapi-processes-1/1.0/conf/dismiss"
       ]
      },
      "text/plain": [
       "ConfClasses(conformsTo=['http://www.opengis.net/spec/ogcapi-processes-1/1.0/conf/core', 'http://www.opengis.net/spec/ogcapi-processes-1/1.0/conf/ogc-process-description', 'http://www.opengis.net/spec/ogcapi-processes-1/1.0/conf/json', 'http://www.opengis.net/spec/ogcapi-processes-1/1.0/conf/oas30', 'http://www.opengis.net/spec/ogcapi-processes-1/1.0/conf/job-list', 'http://www.opengis.net/spec/ogcapi-processes-1/1.0/conf/dismiss'])"
      ]
     },
     "execution_count": 4,
     "metadata": {
      "application/json": {
       "root": "ConfClasses object:"
      }
     },
     "output_type": "execute_result"
    }
   ],
   "source": [
    "client.get_conformance_classes()"
   ]
  },
  {
   "cell_type": "code",
   "execution_count": 5,
   "id": "7154afcd-59a9-484f-8271-1b4773b8c636",
   "metadata": {},
   "outputs": [
    {
     "data": {
      "application/json": {
       "links": [],
       "processes": [
        {
         "description": "A dummy processor.\n\nArgs:\n    duration: minimal sleep duration in seconds\n    fail: whether to wake up too early\n\nReturns:\n    The effective amount of sleep in seconds\n",
         "id": "sleep_a_while",
         "title": "Dummy sleep processor",
         "version": "0.0.0"
        }
       ]
      },
      "text/plain": [
       "ProcessList(processes=[ProcessSummary(title='Dummy sleep processor', description='A dummy processor.\\n\\nArgs:\\n    duration: minimal sleep duration in seconds\\n    fail: whether to wake up too early\\n\\nReturns:\\n    The effective amount of sleep in seconds\\n', keywords=None, metadata=None, additionalParameters=None, id='sleep_a_while', version='0.0.0', jobControlOptions=None, outputTransmission=None, links=None)], links=[])"
      ]
     },
     "execution_count": 5,
     "metadata": {
      "application/json": {
       "root": "ProcessList object:"
      }
     },
     "output_type": "execute_result"
    }
   ],
   "source": [
    "client.get_processes()"
   ]
  },
  {
   "cell_type": "code",
   "execution_count": 6,
   "id": "a629ba21-e389-4131-ae84-2ce5c5fc7aa9",
   "metadata": {},
   "outputs": [
    {
     "data": {
      "application/json": {
       "description": "A dummy processor.\n\nArgs:\n    duration: minimal sleep duration in seconds\n    fail: whether to wake up too early\n\nReturns:\n    The effective amount of sleep in seconds\n",
       "id": "sleep_a_while",
       "inputs": {
        "duration": {
         "minOccurs": 1,
         "schema": {
          "additionalProperties": true,
          "default": 10,
          "deprecated": false,
          "exclusiveMaximum": false,
          "exclusiveMinimum": false,
          "minItems": 0,
          "minLength": 0,
          "minProperties": 0,
          "nullable": false,
          "readOnly": false,
          "type": "number",
          "uniqueItems": false,
          "writeOnly": false
         }
        },
        "fail": {
         "minOccurs": 1,
         "schema": {
          "additionalProperties": true,
          "default": false,
          "deprecated": false,
          "exclusiveMaximum": false,
          "exclusiveMinimum": false,
          "minItems": 0,
          "minLength": 0,
          "minProperties": 0,
          "nullable": false,
          "readOnly": false,
          "type": "boolean",
          "uniqueItems": false,
          "writeOnly": false
         }
        }
       },
       "outputs": {
        "result": {
         "schema": {
          "additionalProperties": true,
          "deprecated": false,
          "exclusiveMaximum": false,
          "exclusiveMinimum": false,
          "minItems": 0,
          "minLength": 0,
          "minProperties": 0,
          "nullable": false,
          "readOnly": false,
          "type": "number",
          "uniqueItems": false,
          "writeOnly": false
         }
        }
       },
       "title": "Dummy sleep processor",
       "version": "0.0.0"
      },
      "text/plain": [
       "Process(title='Dummy sleep processor', description='A dummy processor.\\n\\nArgs:\\n    duration: minimal sleep duration in seconds\\n    fail: whether to wake up too early\\n\\nReturns:\\n    The effective amount of sleep in seconds\\n', keywords=None, metadata=None, additionalParameters=None, id='sleep_a_while', version='0.0.0', jobControlOptions=None, outputTransmission=None, links=None, inputs={'duration': InputDescription(title=None, description=None, keywords=None, metadata=None, additionalParameters=None, minOccurs=1, maxOccurs=None, schema_=Schema(title=None, multipleOf=None, maximum=None, exclusiveMaximum=False, minimum=None, exclusiveMinimum=False, maxLength=None, minLength=0, pattern=None, maxItems=None, minItems=0, uniqueItems=False, maxProperties=None, minProperties=0, required=None, enum=None, type=<Type1.number: 'number'>, not_=None, allOf=None, oneOf=None, anyOf=None, items=None, properties=None, additionalProperties=True, description=None, format=None, default=10.0, nullable=False, readOnly=False, writeOnly=False, example=None, deprecated=False, contentMediaType=None, contentEncoding=None, contentSchema=None)), 'fail': InputDescription(title=None, description=None, keywords=None, metadata=None, additionalParameters=None, minOccurs=1, maxOccurs=None, schema_=Schema(title=None, multipleOf=None, maximum=None, exclusiveMaximum=False, minimum=None, exclusiveMinimum=False, maxLength=None, minLength=0, pattern=None, maxItems=None, minItems=0, uniqueItems=False, maxProperties=None, minProperties=0, required=None, enum=None, type=<Type1.boolean: 'boolean'>, not_=None, allOf=None, oneOf=None, anyOf=None, items=None, properties=None, additionalProperties=True, description=None, format=None, default=False, nullable=False, readOnly=False, writeOnly=False, example=None, deprecated=False, contentMediaType=None, contentEncoding=None, contentSchema=None))}, outputs={'result': OutputDescription(title=None, description=None, keywords=None, metadata=None, additionalParameters=None, schema_=Schema(title=None, multipleOf=None, maximum=None, exclusiveMaximum=False, minimum=None, exclusiveMinimum=False, maxLength=None, minLength=0, pattern=None, maxItems=None, minItems=0, uniqueItems=False, maxProperties=None, minProperties=0, required=None, enum=None, type=<Type1.number: 'number'>, not_=None, allOf=None, oneOf=None, anyOf=None, items=None, properties=None, additionalProperties=True, description=None, format=None, default=None, nullable=False, readOnly=False, writeOnly=False, example=None, deprecated=False, contentMediaType=None, contentEncoding=None, contentSchema=None))})"
      ]
     },
     "execution_count": 6,
     "metadata": {
      "application/json": {
       "root": "Process object:"
      }
     },
     "output_type": "execute_result"
    }
   ],
   "source": [
    "client.get_process_description(process_id=\"sleep_a_while\")"
   ]
  },
  {
   "cell_type": "code",
   "execution_count": 7,
   "id": "e4e20f28-0ed4-4e30-9fcd-23238a7d06a0",
   "metadata": {},
   "outputs": [
    {
     "data": {
      "application/json": {
       "jobs": [],
       "links": []
      },
      "text/plain": [
       "JobList(jobs=[], links=[])"
      ]
     },
     "execution_count": 7,
     "metadata": {
      "application/json": {
       "root": "JobList object:"
      }
     },
     "output_type": "execute_result"
    }
   ],
   "source": [
    "client.get_jobs()"
   ]
  },
  {
   "cell_type": "code",
   "execution_count": 8,
   "id": "cc034916-02db-4ec2-8682-71710d54edf6",
   "metadata": {},
   "outputs": [
    {
     "name": "stderr",
     "output_type": "stream",
     "text": [
      "C:\\Users\\norma\\miniforge3\\envs\\s2gos\\Lib\\site-packages\\pydantic\\main.py:463: UserWarning: Pydantic serializer warnings:\n",
      "  PydanticSerializationUnexpectedValue(Expected `enum` - serialized value may not be as expected [input_value='raw', input_type=str])\n",
      "  return self.__pydantic_serializer__.to_python(\n"
     ]
    },
    {
     "data": {
      "application/json": {
       "created": "2025-06-15T07:28:55.529214",
       "jobID": "job_0",
       "processID": "sleep_a_while",
       "progress": 0,
       "started": "2025-06-15T07:28:55.531094",
       "status": "running",
       "type": "process",
       "updated": "2025-06-15T07:28:55.531276"
      },
      "text/plain": [
       "StatusInfo(processID='sleep_a_while', type=<Type.process: 'process'>, jobID='job_0', status=<StatusCode.running: 'running'>, message=None, created=datetime.datetime(2025, 6, 15, 7, 28, 55, 529214), started=datetime.datetime(2025, 6, 15, 7, 28, 55, 531094), finished=None, updated=datetime.datetime(2025, 6, 15, 7, 28, 55, 531276), progress=0, links=None)"
      ]
     },
     "execution_count": 8,
     "metadata": {
      "application/json": {
       "root": "StatusInfo object:"
      }
     },
     "output_type": "execute_result"
    }
   ],
   "source": [
    "client.execute(process_id=\"sleep_a_while\", request=Execute())"
   ]
  },
  {
   "cell_type": "code",
   "execution_count": 9,
   "id": "4cd38b1d-5989-4991-9b62-d1981d33a46e",
   "metadata": {},
   "outputs": [
    {
     "data": {
      "application/json": {
       "created": "2025-06-15T07:28:57.591726",
       "jobID": "job_1",
       "processID": "sleep_a_while",
       "progress": 0,
       "started": "2025-06-15T07:28:57.592441",
       "status": "running",
       "type": "process",
       "updated": "2025-06-15T07:28:57.592500"
      },
      "text/plain": [
       "StatusInfo(processID='sleep_a_while', type=<Type.process: 'process'>, jobID='job_1', status=<StatusCode.running: 'running'>, message=None, created=datetime.datetime(2025, 6, 15, 7, 28, 57, 591726), started=datetime.datetime(2025, 6, 15, 7, 28, 57, 592441), finished=None, updated=datetime.datetime(2025, 6, 15, 7, 28, 57, 592500), progress=0, links=None)"
      ]
     },
     "execution_count": 9,
     "metadata": {
      "application/json": {
       "root": "StatusInfo object:"
      }
     },
     "output_type": "execute_result"
    }
   ],
   "source": [
    "client.execute(process_id=\"sleep_a_while\", request={})"
   ]
  },
  {
   "cell_type": "code",
   "execution_count": 10,
   "id": "9cf5e867-d91e-45dd-91b3-a54bc2d087a7",
   "metadata": {},
   "outputs": [
    {
     "data": {
      "application/json": {
       "jobs": [
        {
         "created": "2025-06-15T07:28:55.529214",
         "jobID": "job_0",
         "processID": "sleep_a_while",
         "progress": 40,
         "started": "2025-06-15T07:28:55.531094",
         "status": "running",
         "type": "process",
         "updated": "2025-06-15T07:28:59.620873"
        },
        {
         "created": "2025-06-15T07:28:57.591726",
         "jobID": "job_1",
         "processID": "sleep_a_while",
         "progress": 20,
         "started": "2025-06-15T07:28:57.592441",
         "status": "running",
         "type": "process",
         "updated": "2025-06-15T07:28:59.629544"
        }
       ],
       "links": []
      },
      "text/plain": [
       "JobList(jobs=[StatusInfo(processID='sleep_a_while', type=<Type.process: 'process'>, jobID='job_0', status=<StatusCode.running: 'running'>, message=None, created=datetime.datetime(2025, 6, 15, 7, 28, 55, 529214), started=datetime.datetime(2025, 6, 15, 7, 28, 55, 531094), finished=None, updated=datetime.datetime(2025, 6, 15, 7, 28, 59, 620873), progress=40, links=None), StatusInfo(processID='sleep_a_while', type=<Type.process: 'process'>, jobID='job_1', status=<StatusCode.running: 'running'>, message=None, created=datetime.datetime(2025, 6, 15, 7, 28, 57, 591726), started=datetime.datetime(2025, 6, 15, 7, 28, 57, 592441), finished=None, updated=datetime.datetime(2025, 6, 15, 7, 28, 59, 629544), progress=20, links=None)], links=[])"
      ]
     },
     "execution_count": 10,
     "metadata": {
      "application/json": {
       "root": "JobList object:"
      }
     },
     "output_type": "execute_result"
    }
   ],
   "source": [
    "client.get_jobs()"
   ]
  },
  {
   "cell_type": "code",
   "execution_count": null,
   "id": "736d52d8-d91a-435b-8dfb-b016a5139201",
   "metadata": {},
   "outputs": [],
   "source": []
  }
 ],
 "metadata": {
  "kernelspec": {
   "display_name": "Python 3 (ipykernel)",
   "language": "python",
   "name": "python3"
  },
  "language_info": {
   "codemirror_mode": {
    "name": "ipython",
    "version": 3
   },
   "file_extension": ".py",
   "mimetype": "text/x-python",
   "name": "python",
   "nbconvert_exporter": "python",
   "pygments_lexer": "ipython3",
   "version": "3.13.3"
  }
 },
 "nbformat": 4,
 "nbformat_minor": 5
}
