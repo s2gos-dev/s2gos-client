{
 "cells": [
  {
   "cell_type": "code",
   "execution_count": 1,
   "id": "8be0d24e-00ad-4ce0-8217-27a6747b5767",
   "metadata": {},
   "outputs": [],
   "source": [
    "from s2gos.client import Client\n",
    "from s2gos.common.models import Execute"
   ]
  },
  {
   "cell_type": "code",
   "execution_count": 2,
   "id": "6c90402f-b2a2-4e1e-873c-8ceca7780ed6",
   "metadata": {},
   "outputs": [
    {
     "data": {
      "application/json": {
       "access_token": "30948305",
       "server_url": "http://localhost:8008",
       "user_name": "forman"
      },
      "text/plain": [
       "<s2gos.client.client.Client at 0x26c5cf5c6e0>"
      ]
     },
     "execution_count": 2,
     "metadata": {
      "application/json": {
       "root": "Configuration:"
      }
     },
     "output_type": "execute_result"
    }
   ],
   "source": [
    "client = Client(debug=True)\n",
    "client"
   ]
  },
  {
   "cell_type": "code",
   "execution_count": 3,
   "id": "18cd3a18-73ee-411d-b6bb-8a63a9c2d95c",
   "metadata": {},
   "outputs": [
    {
     "data": {
      "application/json": {
       "description": "Local server implementing the OGC API - Processes 1.0 Standard",
       "links": [],
       "title": "S2GOS API Server (local)"
      },
      "text/plain": [
       "LandingPage(title='S2GOS API Server (local)', description='Local server implementing the OGC API - Processes 1.0 Standard', links=[])"
      ]
     },
     "execution_count": 3,
     "metadata": {
      "application/json": {
       "root": "LandingPage object:"
      }
     },
     "output_type": "execute_result"
    }
   ],
   "source": [
    "client.get_landing_page()"
   ]
  },
  {
   "cell_type": "code",
   "execution_count": 4,
   "id": "ed699a45-ff53-4278-8023-ee131f225088",
   "metadata": {},
   "outputs": [
    {
     "data": {
      "application/json": {
       "conformsTo": [
        "http://www.opengis.net/spec/ogcapi-processes-1/1.0/conf/core",
        "http://www.opengis.net/spec/ogcapi-processes-1/1.0/conf/ogc-process-description",
        "http://www.opengis.net/spec/ogcapi-processes-1/1.0/conf/json",
        "http://www.opengis.net/spec/ogcapi-processes-1/1.0/conf/oas30",
        "http://www.opengis.net/spec/ogcapi-processes-1/1.0/conf/job-list",
        "http://www.opengis.net/spec/ogcapi-processes-1/1.0/conf/dismiss"
       ]
      },
      "text/plain": [
       "ConfClasses(conformsTo=['http://www.opengis.net/spec/ogcapi-processes-1/1.0/conf/core', 'http://www.opengis.net/spec/ogcapi-processes-1/1.0/conf/ogc-process-description', 'http://www.opengis.net/spec/ogcapi-processes-1/1.0/conf/json', 'http://www.opengis.net/spec/ogcapi-processes-1/1.0/conf/oas30', 'http://www.opengis.net/spec/ogcapi-processes-1/1.0/conf/job-list', 'http://www.opengis.net/spec/ogcapi-processes-1/1.0/conf/dismiss'])"
      ]
     },
     "execution_count": 4,
     "metadata": {
      "application/json": {
       "root": "ConfClasses object:"
      }
     },
     "output_type": "execute_result"
    }
   ],
   "source": [
    "client.get_conformance_classes()"
   ]
  },
  {
   "cell_type": "code",
   "execution_count": 5,
   "id": "7154afcd-59a9-484f-8271-1b4773b8c636",
   "metadata": {},
   "outputs": [
    {
     "data": {
      "application/json": {
       "links": [],
       "processes": [
        {
         "description": "Computes 3.142, which will take ~3 seconds",
         "id": "process_0",
         "jobControlOptions": [
          "async-execute",
          "dismiss"
         ],
         "title": "Computes constant 3.142",
         "version": "1.0"
        },
        {
         "description": "Computes 137.036, which will take ~10 seconds",
         "id": "process_1",
         "jobControlOptions": [
          "async-execute",
          "dismiss"
         ],
         "title": "Computes constant 137.036",
         "version": "1.0"
        },
        {
         "description": "Computes 42.0, which will take ~60 seconds",
         "id": "process_2",
         "jobControlOptions": [
          "async-execute",
          "dismiss"
         ],
         "title": "Computes constant 42.0",
         "version": "1.0"
        }
       ]
      },
      "text/plain": [
       "ProcessList(processes=[ProcessSummary(title='Computes constant 3.142', description='Computes 3.142, which will take ~3 seconds', keywords=None, metadata=None, additionalParameters=None, id='process_0', version='1.0', jobControlOptions=[<JobControlOptions.async_execute: 'async-execute'>, <JobControlOptions.dismiss: 'dismiss'>], outputTransmission=None, links=None), ProcessSummary(title='Computes constant 137.036', description='Computes 137.036, which will take ~10 seconds', keywords=None, metadata=None, additionalParameters=None, id='process_1', version='1.0', jobControlOptions=[<JobControlOptions.async_execute: 'async-execute'>, <JobControlOptions.dismiss: 'dismiss'>], outputTransmission=None, links=None), ProcessSummary(title='Computes constant 42.0', description='Computes 42.0, which will take ~60 seconds', keywords=None, metadata=None, additionalParameters=None, id='process_2', version='1.0', jobControlOptions=[<JobControlOptions.async_execute: 'async-execute'>, <JobControlOptions.dismiss: 'dismiss'>], outputTransmission=None, links=None)], links=[])"
      ]
     },
     "execution_count": 5,
     "metadata": {
      "application/json": {
       "root": "ProcessList object:"
      }
     },
     "output_type": "execute_result"
    }
   ],
   "source": [
    "client.get_processes()"
   ]
  },
  {
   "cell_type": "code",
   "execution_count": 6,
   "id": "a629ba21-e389-4131-ae84-2ce5c5fc7aa9",
   "metadata": {},
   "outputs": [
    {
     "data": {
      "application/json": {
       "description": "Computes 3.142, which will take ~3 seconds",
       "id": "process_0",
       "inputs": {
        "duration": {
         "maxOccurs": 1,
         "minOccurs": 0,
         "schema": {
          "additionalProperties": true,
          "default": 3,
          "deprecated": false,
          "exclusiveMaximum": false,
          "exclusiveMinimum": false,
          "minItems": 0,
          "minLength": 0,
          "minProperties": 0,
          "nullable": false,
          "readOnly": false,
          "type": "number",
          "uniqueItems": false,
          "writeOnly": false
         },
         "title": "Duration of the process"
        },
        "fail": {
         "maxOccurs": 1,
         "minOccurs": 0,
         "schema": {
          "additionalProperties": true,
          "default": false,
          "deprecated": false,
          "exclusiveMaximum": false,
          "exclusiveMinimum": false,
          "minItems": 0,
          "minLength": 0,
          "minProperties": 0,
          "nullable": false,
          "readOnly": false,
          "type": "boolean",
          "uniqueItems": false,
          "writeOnly": false
         },
         "title": "Whether to raise an error"
        }
       },
       "jobControlOptions": [
        "async-execute",
        "dismiss"
       ],
       "outputs": {
        "result": {
         "schema": {
          "additionalProperties": true,
          "deprecated": false,
          "exclusiveMaximum": false,
          "exclusiveMinimum": false,
          "minItems": 0,
          "minLength": 0,
          "minProperties": 0,
          "nullable": false,
          "readOnly": false,
          "type": "number",
          "uniqueItems": false,
          "writeOnly": false
         },
         "title": "Result of the computation"
        }
       },
       "title": "Computes constant 3.142",
       "version": "1.0"
      },
      "text/plain": [
       "Process(title='Computes constant 3.142', description='Computes 3.142, which will take ~3 seconds', keywords=None, metadata=None, additionalParameters=None, id='process_0', version='1.0', jobControlOptions=[<JobControlOptions.async_execute: 'async-execute'>, <JobControlOptions.dismiss: 'dismiss'>], outputTransmission=None, links=None, inputs={'duration': InputDescription(title='Duration of the process', description=None, keywords=None, metadata=None, additionalParameters=None, minOccurs=0, maxOccurs=1, schema_=Schema(title=None, multipleOf=None, maximum=None, exclusiveMaximum=False, minimum=None, exclusiveMinimum=False, maxLength=None, minLength=0, pattern=None, maxItems=None, minItems=0, uniqueItems=False, maxProperties=None, minProperties=0, required=None, enum=None, type=<Type1.number: 'number'>, not_=None, allOf=None, oneOf=None, anyOf=None, items=None, properties=None, additionalProperties=True, description=None, format=None, default=3, nullable=False, readOnly=False, writeOnly=False, example=None, deprecated=False, contentMediaType=None, contentEncoding=None, contentSchema=None)), 'fail': InputDescription(title='Whether to raise an error', description=None, keywords=None, metadata=None, additionalParameters=None, minOccurs=0, maxOccurs=1, schema_=Schema(title=None, multipleOf=None, maximum=None, exclusiveMaximum=False, minimum=None, exclusiveMinimum=False, maxLength=None, minLength=0, pattern=None, maxItems=None, minItems=0, uniqueItems=False, maxProperties=None, minProperties=0, required=None, enum=None, type=<Type1.boolean: 'boolean'>, not_=None, allOf=None, oneOf=None, anyOf=None, items=None, properties=None, additionalProperties=True, description=None, format=None, default=False, nullable=False, readOnly=False, writeOnly=False, example=None, deprecated=False, contentMediaType=None, contentEncoding=None, contentSchema=None))}, outputs={'result': OutputDescription(title='Result of the computation', description=None, keywords=None, metadata=None, additionalParameters=None, schema_=Schema(title=None, multipleOf=None, maximum=None, exclusiveMaximum=False, minimum=None, exclusiveMinimum=False, maxLength=None, minLength=0, pattern=None, maxItems=None, minItems=0, uniqueItems=False, maxProperties=None, minProperties=0, required=None, enum=None, type=<Type1.number: 'number'>, not_=None, allOf=None, oneOf=None, anyOf=None, items=None, properties=None, additionalProperties=True, description=None, format=None, default=None, nullable=False, readOnly=False, writeOnly=False, example=None, deprecated=False, contentMediaType=None, contentEncoding=None, contentSchema=None))})"
      ]
     },
     "execution_count": 6,
     "metadata": {
      "application/json": {
       "root": "Process object:"
      }
     },
     "output_type": "execute_result"
    }
   ],
   "source": [
    "client.get_process_description(process_id=\"process_0\")"
   ]
  },
  {
   "cell_type": "code",
   "execution_count": 7,
   "id": "e4e20f28-0ed4-4e30-9fcd-23238a7d06a0",
   "metadata": {},
   "outputs": [
    {
     "data": {
      "application/json": {
       "jobs": [
        {
         "created": "2025-06-11T15:30:13.305004",
         "finished": "2025-06-11T15:30:16.394085",
         "jobID": "job_0",
         "processID": "process_0",
         "progress": 100,
         "started": "2025-06-11T15:30:13.308196",
         "status": "successful",
         "type": "process",
         "updated": "2025-06-11T15:30:16.363554"
        },
        {
         "created": "2025-06-11T15:30:15.342228",
         "finished": "2025-06-11T15:30:18.442024",
         "jobID": "job_1",
         "processID": "process_0",
         "progress": 100,
         "started": "2025-06-11T15:30:15.342863",
         "status": "successful",
         "type": "process",
         "updated": "2025-06-11T15:30:18.411428"
        }
       ],
       "links": []
      },
      "text/plain": [
       "JobList(jobs=[StatusInfo(processID='process_0', type=<Type.process: 'process'>, jobID='job_0', status=<StatusCode.successful: 'successful'>, message=None, created=datetime.datetime(2025, 6, 11, 15, 30, 13, 305004), started=datetime.datetime(2025, 6, 11, 15, 30, 13, 308196), finished=datetime.datetime(2025, 6, 11, 15, 30, 16, 394085), updated=datetime.datetime(2025, 6, 11, 15, 30, 16, 363554), progress=100, links=None), StatusInfo(processID='process_0', type=<Type.process: 'process'>, jobID='job_1', status=<StatusCode.successful: 'successful'>, message=None, created=datetime.datetime(2025, 6, 11, 15, 30, 15, 342228), started=datetime.datetime(2025, 6, 11, 15, 30, 15, 342863), finished=datetime.datetime(2025, 6, 11, 15, 30, 18, 442024), updated=datetime.datetime(2025, 6, 11, 15, 30, 18, 411428), progress=100, links=None)], links=[])"
      ]
     },
     "execution_count": 7,
     "metadata": {
      "application/json": {
       "root": "JobList object:"
      }
     },
     "output_type": "execute_result"
    }
   ],
   "source": [
    "client.get_jobs()"
   ]
  },
  {
   "cell_type": "code",
   "execution_count": 8,
   "id": "cc034916-02db-4ec2-8682-71710d54edf6",
   "metadata": {},
   "outputs": [
    {
     "name": "stderr",
     "output_type": "stream",
     "text": [
      "C:\\Users\\norma\\miniforge3\\envs\\s2gos\\Lib\\site-packages\\pydantic\\main.py:463: UserWarning: Pydantic serializer warnings:\n",
      "  PydanticSerializationUnexpectedValue(Expected `enum` - serialized value may not be as expected [input_value='raw', input_type=str])\n",
      "  return self.__pydantic_serializer__.to_python(\n"
     ]
    },
    {
     "data": {
      "application/json": {
       "created": "2025-06-11T16:38:37.301845",
       "jobID": "job_2",
       "processID": "process_0",
       "status": "accepted",
       "type": "process"
      },
      "text/plain": [
       "StatusInfo(processID='process_0', type=<Type.process: 'process'>, jobID='job_2', status=<StatusCode.accepted: 'accepted'>, message=None, created=datetime.datetime(2025, 6, 11, 16, 38, 37, 301845), started=None, finished=None, updated=None, progress=None, links=None)"
      ]
     },
     "execution_count": 8,
     "metadata": {
      "application/json": {
       "root": "StatusInfo object:"
      }
     },
     "output_type": "execute_result"
    }
   ],
   "source": [
    "client.execute(process_id=\"process_0\", request=Execute())"
   ]
  },
  {
   "cell_type": "code",
   "execution_count": 9,
   "id": "4cd38b1d-5989-4991-9b62-d1981d33a46e",
   "metadata": {},
   "outputs": [
    {
     "data": {
      "application/json": {
       "created": "2025-06-11T16:38:39.333756",
       "jobID": "job_3",
       "processID": "process_0",
       "status": "accepted",
       "type": "process"
      },
      "text/plain": [
       "StatusInfo(processID='process_0', type=<Type.process: 'process'>, jobID='job_3', status=<StatusCode.accepted: 'accepted'>, message=None, created=datetime.datetime(2025, 6, 11, 16, 38, 39, 333756), started=None, finished=None, updated=None, progress=None, links=None)"
      ]
     },
     "execution_count": 9,
     "metadata": {
      "application/json": {
       "root": "StatusInfo object:"
      }
     },
     "output_type": "execute_result"
    }
   ],
   "source": [
    "client.execute(process_id=\"process_0\", request={})"
   ]
  },
  {
   "cell_type": "code",
   "execution_count": 10,
   "id": "9cf5e867-d91e-45dd-91b3-a54bc2d087a7",
   "metadata": {},
   "outputs": [
    {
     "data": {
      "application/json": {
       "jobs": [
        {
         "created": "2025-06-11T15:30:13.305004",
         "finished": "2025-06-11T15:30:16.394085",
         "jobID": "job_0",
         "processID": "process_0",
         "progress": 100,
         "started": "2025-06-11T15:30:13.308196",
         "status": "successful",
         "type": "process",
         "updated": "2025-06-11T15:30:16.363554"
        },
        {
         "created": "2025-06-11T15:30:15.342228",
         "finished": "2025-06-11T15:30:18.442024",
         "jobID": "job_1",
         "processID": "process_0",
         "progress": 100,
         "started": "2025-06-11T15:30:15.342863",
         "status": "successful",
         "type": "process",
         "updated": "2025-06-11T15:30:18.411428"
        },
        {
         "created": "2025-06-11T16:38:37.301845",
         "finished": "2025-06-11T16:38:40.457290",
         "jobID": "job_2",
         "processID": "process_0",
         "progress": 100,
         "started": "2025-06-11T16:38:37.304372",
         "status": "successful",
         "type": "process",
         "updated": "2025-06-11T16:38:40.418681"
        },
        {
         "created": "2025-06-11T16:38:39.333756",
         "jobID": "job_3",
         "processID": "process_0",
         "progress": 66,
         "started": "2025-06-11T16:38:39.334831",
         "status": "running",
         "type": "process",
         "updated": "2025-06-11T16:38:41.370658"
        }
       ],
       "links": []
      },
      "text/plain": [
       "JobList(jobs=[StatusInfo(processID='process_0', type=<Type.process: 'process'>, jobID='job_0', status=<StatusCode.successful: 'successful'>, message=None, created=datetime.datetime(2025, 6, 11, 15, 30, 13, 305004), started=datetime.datetime(2025, 6, 11, 15, 30, 13, 308196), finished=datetime.datetime(2025, 6, 11, 15, 30, 16, 394085), updated=datetime.datetime(2025, 6, 11, 15, 30, 16, 363554), progress=100, links=None), StatusInfo(processID='process_0', type=<Type.process: 'process'>, jobID='job_1', status=<StatusCode.successful: 'successful'>, message=None, created=datetime.datetime(2025, 6, 11, 15, 30, 15, 342228), started=datetime.datetime(2025, 6, 11, 15, 30, 15, 342863), finished=datetime.datetime(2025, 6, 11, 15, 30, 18, 442024), updated=datetime.datetime(2025, 6, 11, 15, 30, 18, 411428), progress=100, links=None), StatusInfo(processID='process_0', type=<Type.process: 'process'>, jobID='job_2', status=<StatusCode.successful: 'successful'>, message=None, created=datetime.datetime(2025, 6, 11, 16, 38, 37, 301845), started=datetime.datetime(2025, 6, 11, 16, 38, 37, 304372), finished=datetime.datetime(2025, 6, 11, 16, 38, 40, 457290), updated=datetime.datetime(2025, 6, 11, 16, 38, 40, 418681), progress=100, links=None), StatusInfo(processID='process_0', type=<Type.process: 'process'>, jobID='job_3', status=<StatusCode.running: 'running'>, message=None, created=datetime.datetime(2025, 6, 11, 16, 38, 39, 333756), started=datetime.datetime(2025, 6, 11, 16, 38, 39, 334831), finished=None, updated=datetime.datetime(2025, 6, 11, 16, 38, 41, 370658), progress=66, links=None)], links=[])"
      ]
     },
     "execution_count": 10,
     "metadata": {
      "application/json": {
       "root": "JobList object:"
      }
     },
     "output_type": "execute_result"
    }
   ],
   "source": [
    "client.get_jobs()"
   ]
  },
  {
   "cell_type": "code",
   "execution_count": null,
   "id": "736d52d8-d91a-435b-8dfb-b016a5139201",
   "metadata": {},
   "outputs": [],
   "source": []
  }
 ],
 "metadata": {
  "kernelspec": {
   "display_name": "Python 3 (ipykernel)",
   "language": "python",
   "name": "python3"
  },
  "language_info": {
   "codemirror_mode": {
    "name": "ipython",
    "version": 3
   },
   "file_extension": ".py",
   "mimetype": "text/x-python",
   "name": "python",
   "nbconvert_exporter": "python",
   "pygments_lexer": "ipython3",
   "version": "3.13.3"
  }
 },
 "nbformat": 4,
 "nbformat_minor": 5
}
