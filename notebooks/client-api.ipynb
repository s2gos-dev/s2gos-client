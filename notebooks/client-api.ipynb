{
 "cells": [
  {
   "cell_type": "markdown",
   "id": "ed01d1e5-12e4-4fe8-9e1a-e57f0bb7a7da",
   "metadata": {},
   "source": [
    "Before running this notebook, please run\n",
    "\n",
    "```bash\n",
    "s2gos-server run --service=s2gos.server.local.dummy:service\n",
    "```"
   ]
  },
  {
   "cell_type": "code",
   "execution_count": 1,
   "id": "8be0d24e-00ad-4ce0-8217-27a6747b5767",
   "metadata": {},
   "outputs": [],
   "source": [
    "from s2gos.client import Client\n",
    "from s2gos.common.models import ProcessRequest"
   ]
  },
  {
   "cell_type": "code",
   "execution_count": 2,
   "id": "6c90402f-b2a2-4e1e-873c-8ceca7780ed6",
   "metadata": {},
   "outputs": [
    {
     "data": {
      "application/json": {
       "access_token": "30948305",
       "server_url": "http://127.0.0.1:8008",
       "user_name": "forman"
      },
      "text/plain": [
       "<s2gos.client.client.Client at 0x2ae5b899d30>"
      ]
     },
     "execution_count": 2,
     "metadata": {
      "application/json": {
       "root": "Configuration:"
      }
     },
     "output_type": "execute_result"
    }
   ],
   "source": [
    "client = Client(debug=True)\n",
    "client"
   ]
  },
  {
   "cell_type": "code",
   "execution_count": 4,
   "id": "18cd3a18-73ee-411d-b6bb-8a63a9c2d95c",
   "metadata": {},
   "outputs": [
    {
     "data": {
      "application/json": {
       "description": "Local test server implementing the OGC API - Processes 1.0 Standard",
       "links": [],
       "title": "S2GOS API Server (local dummy for testing)"
      },
      "text/plain": [
       "Capabilities(title='S2GOS API Server (local dummy for testing)', description='Local test server implementing the OGC API - Processes 1.0 Standard', links=[])"
      ]
     },
     "execution_count": 4,
     "metadata": {
      "application/json": {
       "root": "Capabilities object:"
      }
     },
     "output_type": "execute_result"
    }
   ],
   "source": [
    "client.get_capabilities()"
   ]
  },
  {
   "cell_type": "code",
   "execution_count": 5,
   "id": "ed699a45-ff53-4278-8023-ee131f225088",
   "metadata": {},
   "outputs": [
    {
     "data": {
      "application/json": {
       "conformsTo": [
        "http://www.opengis.net/spec/ogcapi-processes-1/1.0/conf/core",
        "http://www.opengis.net/spec/ogcapi-processes-1/1.0/conf/ogc-process-description",
        "http://www.opengis.net/spec/ogcapi-processes-1/1.0/conf/json",
        "http://www.opengis.net/spec/ogcapi-processes-1/1.0/conf/oas30",
        "http://www.opengis.net/spec/ogcapi-processes-1/1.0/conf/job-list",
        "http://www.opengis.net/spec/ogcapi-processes-1/1.0/conf/dismiss"
       ]
      },
      "text/plain": [
       "ConformanceDeclaration(conformsTo=['http://www.opengis.net/spec/ogcapi-processes-1/1.0/conf/core', 'http://www.opengis.net/spec/ogcapi-processes-1/1.0/conf/ogc-process-description', 'http://www.opengis.net/spec/ogcapi-processes-1/1.0/conf/json', 'http://www.opengis.net/spec/ogcapi-processes-1/1.0/conf/oas30', 'http://www.opengis.net/spec/ogcapi-processes-1/1.0/conf/job-list', 'http://www.opengis.net/spec/ogcapi-processes-1/1.0/conf/dismiss'])"
      ]
     },
     "execution_count": 5,
     "metadata": {
      "application/json": {
       "root": "ConformanceDeclaration object:"
      }
     },
     "output_type": "execute_result"
    }
   ],
   "source": [
    "client.get_conformance()"
   ]
  },
  {
   "cell_type": "code",
   "execution_count": 6,
   "id": "7154afcd-59a9-484f-8271-1b4773b8c636",
   "metadata": {},
   "outputs": [
    {
     "data": {
      "application/json": {
       "links": [],
       "processes": [
        {
         "description": "Sleeps for `duration` seconds. Fails on purpose if `fail` is `True`. Returns the effective amount of sleep in seconds.",
         "id": "sleep_a_while",
         "title": "Sleep Processor",
         "version": "0.0.0"
        },
        {
         "description": "Returns the list of prime numbers between a `min_val` and `max_val`. ",
         "id": "primes_between",
         "title": "Prime Processor",
         "version": "0.0.0"
        }
       ]
      },
      "text/plain": [
       "ProcessList(processes=[ProcessSummary(title='Sleep Processor', description='Sleeps for `duration` seconds. Fails on purpose if `fail` is `True`. Returns the effective amount of sleep in seconds.', keywords=None, metadata=None, additionalParameters=None, id='sleep_a_while', version='0.0.0', jobControlOptions=None, outputTransmission=None, links=None), ProcessSummary(title='Prime Processor', description='Returns the list of prime numbers between a `min_val` and `max_val`. ', keywords=None, metadata=None, additionalParameters=None, id='primes_between', version='0.0.0', jobControlOptions=None, outputTransmission=None, links=None)], links=[])"
      ]
     },
     "execution_count": 6,
     "metadata": {
      "application/json": {
       "root": "ProcessList object:"
      }
     },
     "output_type": "execute_result"
    }
   ],
   "source": [
    "client.get_processes()"
   ]
  },
  {
   "cell_type": "code",
   "execution_count": 7,
   "id": "a629ba21-e389-4131-ae84-2ce5c5fc7aa9",
   "metadata": {},
   "outputs": [
    {
     "data": {
      "application/json": {
       "description": "Sleeps for `duration` seconds. Fails on purpose if `fail` is `True`. Returns the effective amount of sleep in seconds.",
       "id": "sleep_a_while",
       "inputs": {
        "duration": {
         "minOccurs": 1,
         "schema": {
          "additionalProperties": true,
          "default": 10,
          "deprecated": false,
          "exclusiveMaximum": false,
          "exclusiveMinimum": false,
          "minItems": 0,
          "minLength": 0,
          "minProperties": 0,
          "nullable": false,
          "readOnly": false,
          "type": "number",
          "uniqueItems": false,
          "writeOnly": false
         }
        },
        "fail": {
         "minOccurs": 1,
         "schema": {
          "additionalProperties": true,
          "default": false,
          "deprecated": false,
          "exclusiveMaximum": false,
          "exclusiveMinimum": false,
          "minItems": 0,
          "minLength": 0,
          "minProperties": 0,
          "nullable": false,
          "readOnly": false,
          "type": "boolean",
          "uniqueItems": false,
          "writeOnly": false
         }
        }
       },
       "outputs": {
        "result": {
         "schema": {
          "additionalProperties": true,
          "deprecated": false,
          "exclusiveMaximum": false,
          "exclusiveMinimum": false,
          "minItems": 0,
          "minLength": 0,
          "minProperties": 0,
          "nullable": false,
          "readOnly": false,
          "type": "number",
          "uniqueItems": false,
          "writeOnly": false
         }
        }
       },
       "title": "Sleep Processor",
       "version": "0.0.0"
      },
      "text/plain": [
       "ProcessDescription(title='Sleep Processor', description='Sleeps for `duration` seconds. Fails on purpose if `fail` is `True`. Returns the effective amount of sleep in seconds.', keywords=None, metadata=None, additionalParameters=None, id='sleep_a_while', version='0.0.0', jobControlOptions=None, outputTransmission=None, links=None, inputs={'duration': InputDescription(title=None, description=None, keywords=None, metadata=None, additionalParameters=None, minOccurs=1, maxOccurs=None, schema_=Schema(title=None, multipleOf=None, maximum=None, exclusiveMaximum=False, minimum=None, exclusiveMinimum=False, maxLength=None, minLength=0, pattern=None, maxItems=None, minItems=0, uniqueItems=False, maxProperties=None, minProperties=0, required=None, enum=None, type=<Type1.number: 'number'>, not_=None, allOf=None, oneOf=None, anyOf=None, items=None, properties=None, additionalProperties=True, description=None, format=None, default=10.0, nullable=False, readOnly=False, writeOnly=False, example=None, deprecated=False, contentMediaType=None, contentEncoding=None, contentSchema=None)), 'fail': InputDescription(title=None, description=None, keywords=None, metadata=None, additionalParameters=None, minOccurs=1, maxOccurs=None, schema_=Schema(title=None, multipleOf=None, maximum=None, exclusiveMaximum=False, minimum=None, exclusiveMinimum=False, maxLength=None, minLength=0, pattern=None, maxItems=None, minItems=0, uniqueItems=False, maxProperties=None, minProperties=0, required=None, enum=None, type=<Type1.boolean: 'boolean'>, not_=None, allOf=None, oneOf=None, anyOf=None, items=None, properties=None, additionalProperties=True, description=None, format=None, default=False, nullable=False, readOnly=False, writeOnly=False, example=None, deprecated=False, contentMediaType=None, contentEncoding=None, contentSchema=None))}, outputs={'result': OutputDescription(title=None, description=None, keywords=None, metadata=None, additionalParameters=None, schema_=Schema(title=None, multipleOf=None, maximum=None, exclusiveMaximum=False, minimum=None, exclusiveMinimum=False, maxLength=None, minLength=0, pattern=None, maxItems=None, minItems=0, uniqueItems=False, maxProperties=None, minProperties=0, required=None, enum=None, type=<Type1.number: 'number'>, not_=None, allOf=None, oneOf=None, anyOf=None, items=None, properties=None, additionalProperties=True, description=None, format=None, default=None, nullable=False, readOnly=False, writeOnly=False, example=None, deprecated=False, contentMediaType=None, contentEncoding=None, contentSchema=None))})"
      ]
     },
     "execution_count": 7,
     "metadata": {
      "application/json": {
       "root": "ProcessDescription object:"
      }
     },
     "output_type": "execute_result"
    }
   ],
   "source": [
    "client.get_process(process_id=\"sleep_a_while\")"
   ]
  },
  {
   "cell_type": "code",
   "execution_count": 8,
   "id": "e4e20f28-0ed4-4e30-9fcd-23238a7d06a0",
   "metadata": {},
   "outputs": [
    {
     "data": {
      "application/json": {
       "jobs": [
        {
         "created": "2025-06-23T10:29:59.741729",
         "finished": "2025-06-23T10:30:09.937777",
         "jobID": "job_0",
         "processID": "sleep_a_while",
         "progress": 100,
         "started": "2025-06-23T10:29:59.743562",
         "status": "successful",
         "type": "process",
         "updated": "2025-06-23T10:30:09.837537"
        },
        {
         "created": "2025-06-23T10:29:59.759168",
         "finished": "2025-06-23T10:30:04.801114",
         "jobID": "job_1",
         "message": "Woke up too early",
         "processID": "sleep_a_while",
         "progress": 50,
         "started": "2025-06-23T10:29:59.759749",
         "status": "failed",
         "traceback": [
          "Traceback (most recent call last):\n",
          "  File \"C:\\Users\\norma\\Projects\\s2gos-client\\s2gos\\server\\services\\local\\job.py\", line 126, in run\n    result = self.function(**self.function_kwargs)\n",
          "  File \"C:\\Users\\norma\\Projects\\s2gos-client\\s2gos\\server\\services\\local\\testing.py\", line 34, in sleep_a_while\n    raise RuntimeError(\"Woke up too early\")\n",
          "RuntimeError: Woke up too early\n"
         ],
         "type": "process",
         "updated": "2025-06-23T10:30:04.801074"
        },
        {
         "created": "2025-06-23T10:29:59.769205",
         "finished": "2025-06-23T10:30:12.972937",
         "jobID": "job_2",
         "processID": "sleep_a_while",
         "progress": 10,
         "started": "2025-06-23T10:29:59.769716",
         "status": "dismissed",
         "type": "process",
         "updated": "2025-06-23T10:30:11.772560"
        },
        {
         "created": "2025-06-23T10:37:12.774585",
         "finished": "2025-06-23T10:37:22.980173",
         "jobID": "job_3",
         "processID": "sleep_a_while",
         "progress": 100,
         "started": "2025-06-23T10:37:12.775754",
         "status": "successful",
         "type": "process",
         "updated": "2025-06-23T10:37:22.879596"
        },
        {
         "created": "2025-06-23T10:37:12.785589",
         "finished": "2025-06-23T10:37:17.807407",
         "jobID": "job_4",
         "message": "Woke up too early",
         "processID": "sleep_a_while",
         "progress": 50,
         "started": "2025-06-23T10:37:12.786539",
         "status": "failed",
         "traceback": [
          "Traceback (most recent call last):\n",
          "  File \"C:\\Users\\norma\\Projects\\s2gos-client\\s2gos\\server\\services\\local\\job.py\", line 126, in run\n    result = self.function(**self.function_kwargs)\n",
          "  File \"C:\\Users\\norma\\Projects\\s2gos-client\\s2gos\\server\\services\\local\\testing.py\", line 34, in sleep_a_while\n    raise RuntimeError(\"Woke up too early\")\n",
          "RuntimeError: Woke up too early\n"
         ],
         "type": "process",
         "updated": "2025-06-23T10:37:17.807363"
        },
        {
         "created": "2025-06-23T10:37:12.794288",
         "finished": "2025-06-23T10:39:14.130043",
         "jobID": "job_5",
         "processID": "sleep_a_while",
         "progress": 100,
         "started": "2025-06-23T10:37:12.795133",
         "status": "successful",
         "type": "process",
         "updated": "2025-06-23T10:39:12.929776"
        },
        {
         "created": "2025-06-23T10:42:09.763654",
         "finished": "2025-06-23T10:42:19.985312",
         "jobID": "job_6",
         "processID": "sleep_a_while",
         "progress": 100,
         "started": "2025-06-23T10:42:09.765137",
         "status": "successful",
         "type": "process",
         "updated": "2025-06-23T10:42:19.885157"
        },
        {
         "created": "2025-06-23T10:42:09.774366",
         "finished": "2025-06-23T10:42:14.835516",
         "jobID": "job_7",
         "message": "Woke up too early",
         "processID": "sleep_a_while",
         "progress": 50,
         "started": "2025-06-23T10:42:09.774869",
         "status": "failed",
         "traceback": [
          "Traceback (most recent call last):\n",
          "  File \"C:\\Users\\norma\\Projects\\s2gos-client\\s2gos\\server\\services\\local\\job.py\", line 126, in run\n    result = self.function(**self.function_kwargs)\n",
          "  File \"C:\\Users\\norma\\Projects\\s2gos-client\\s2gos\\server\\services\\local\\testing.py\", line 34, in sleep_a_while\n    raise RuntimeError(\"Woke up too early\")\n",
          "RuntimeError: Woke up too early\n"
         ],
         "type": "process",
         "updated": "2025-06-23T10:42:14.835487"
        },
        {
         "created": "2025-06-23T10:42:09.784606",
         "finished": "2025-06-23T10:44:11.052795",
         "jobID": "job_8",
         "processID": "sleep_a_while",
         "progress": 100,
         "started": "2025-06-23T10:42:09.785542",
         "status": "successful",
         "type": "process",
         "updated": "2025-06-23T10:44:09.852701"
        },
        {
         "created": "2025-06-23T10:45:44.002009",
         "finished": "2025-06-23T10:46:05.351414",
         "jobID": "job_9",
         "processID": "sleep_a_while",
         "progress": 100,
         "started": "2025-06-23T10:45:44.002698",
         "status": "successful",
         "type": "process",
         "updated": "2025-06-23T10:46:05.140791"
        },
        {
         "created": "2025-06-23T10:45:56.511895",
         "finished": "2025-06-23T10:45:56.512713",
         "jobID": "job_10",
         "message": "Done",
         "processID": "primes_between",
         "started": "2025-06-23T10:45:56.512566",
         "status": "successful",
         "type": "process",
         "updated": "2025-06-23T10:45:56.512692"
        }
       ],
       "links": []
      },
      "text/plain": [
       "JobList(jobs=[JobInfo(processID='sleep_a_while', type=<Type.process: 'process'>, jobID='job_0', status=<StatusCode.successful: 'successful'>, message=None, created=datetime.datetime(2025, 6, 23, 10, 29, 59, 741729), started=datetime.datetime(2025, 6, 23, 10, 29, 59, 743562), finished=datetime.datetime(2025, 6, 23, 10, 30, 9, 937777), updated=datetime.datetime(2025, 6, 23, 10, 30, 9, 837537), progress=100, links=None, traceback=None), JobInfo(processID='sleep_a_while', type=<Type.process: 'process'>, jobID='job_1', status=<StatusCode.failed: 'failed'>, message='Woke up too early', created=datetime.datetime(2025, 6, 23, 10, 29, 59, 759168), started=datetime.datetime(2025, 6, 23, 10, 29, 59, 759749), finished=datetime.datetime(2025, 6, 23, 10, 30, 4, 801114), updated=datetime.datetime(2025, 6, 23, 10, 30, 4, 801074), progress=50, links=None, traceback=['Traceback (most recent call last):\\n', '  File \"C:\\\\Users\\\\norma\\\\Projects\\\\s2gos-client\\\\s2gos\\\\server\\\\services\\\\local\\\\job.py\", line 126, in run\\n    result = self.function(**self.function_kwargs)\\n', '  File \"C:\\\\Users\\\\norma\\\\Projects\\\\s2gos-client\\\\s2gos\\\\server\\\\services\\\\local\\\\testing.py\", line 34, in sleep_a_while\\n    raise RuntimeError(\"Woke up too early\")\\n', 'RuntimeError: Woke up too early\\n']), JobInfo(processID='sleep_a_while', type=<Type.process: 'process'>, jobID='job_2', status=<StatusCode.dismissed: 'dismissed'>, message=None, created=datetime.datetime(2025, 6, 23, 10, 29, 59, 769205), started=datetime.datetime(2025, 6, 23, 10, 29, 59, 769716), finished=datetime.datetime(2025, 6, 23, 10, 30, 12, 972937), updated=datetime.datetime(2025, 6, 23, 10, 30, 11, 772560), progress=10, links=None, traceback=None), JobInfo(processID='sleep_a_while', type=<Type.process: 'process'>, jobID='job_3', status=<StatusCode.successful: 'successful'>, message=None, created=datetime.datetime(2025, 6, 23, 10, 37, 12, 774585), started=datetime.datetime(2025, 6, 23, 10, 37, 12, 775754), finished=datetime.datetime(2025, 6, 23, 10, 37, 22, 980173), updated=datetime.datetime(2025, 6, 23, 10, 37, 22, 879596), progress=100, links=None, traceback=None), JobInfo(processID='sleep_a_while', type=<Type.process: 'process'>, jobID='job_4', status=<StatusCode.failed: 'failed'>, message='Woke up too early', created=datetime.datetime(2025, 6, 23, 10, 37, 12, 785589), started=datetime.datetime(2025, 6, 23, 10, 37, 12, 786539), finished=datetime.datetime(2025, 6, 23, 10, 37, 17, 807407), updated=datetime.datetime(2025, 6, 23, 10, 37, 17, 807363), progress=50, links=None, traceback=['Traceback (most recent call last):\\n', '  File \"C:\\\\Users\\\\norma\\\\Projects\\\\s2gos-client\\\\s2gos\\\\server\\\\services\\\\local\\\\job.py\", line 126, in run\\n    result = self.function(**self.function_kwargs)\\n', '  File \"C:\\\\Users\\\\norma\\\\Projects\\\\s2gos-client\\\\s2gos\\\\server\\\\services\\\\local\\\\testing.py\", line 34, in sleep_a_while\\n    raise RuntimeError(\"Woke up too early\")\\n', 'RuntimeError: Woke up too early\\n']), JobInfo(processID='sleep_a_while', type=<Type.process: 'process'>, jobID='job_5', status=<StatusCode.successful: 'successful'>, message=None, created=datetime.datetime(2025, 6, 23, 10, 37, 12, 794288), started=datetime.datetime(2025, 6, 23, 10, 37, 12, 795133), finished=datetime.datetime(2025, 6, 23, 10, 39, 14, 130043), updated=datetime.datetime(2025, 6, 23, 10, 39, 12, 929776), progress=100, links=None, traceback=None), JobInfo(processID='sleep_a_while', type=<Type.process: 'process'>, jobID='job_6', status=<StatusCode.successful: 'successful'>, message=None, created=datetime.datetime(2025, 6, 23, 10, 42, 9, 763654), started=datetime.datetime(2025, 6, 23, 10, 42, 9, 765137), finished=datetime.datetime(2025, 6, 23, 10, 42, 19, 985312), updated=datetime.datetime(2025, 6, 23, 10, 42, 19, 885157), progress=100, links=None, traceback=None), JobInfo(processID='sleep_a_while', type=<Type.process: 'process'>, jobID='job_7', status=<StatusCode.failed: 'failed'>, message='Woke up too early', created=datetime.datetime(2025, 6, 23, 10, 42, 9, 774366), started=datetime.datetime(2025, 6, 23, 10, 42, 9, 774869), finished=datetime.datetime(2025, 6, 23, 10, 42, 14, 835516), updated=datetime.datetime(2025, 6, 23, 10, 42, 14, 835487), progress=50, links=None, traceback=['Traceback (most recent call last):\\n', '  File \"C:\\\\Users\\\\norma\\\\Projects\\\\s2gos-client\\\\s2gos\\\\server\\\\services\\\\local\\\\job.py\", line 126, in run\\n    result = self.function(**self.function_kwargs)\\n', '  File \"C:\\\\Users\\\\norma\\\\Projects\\\\s2gos-client\\\\s2gos\\\\server\\\\services\\\\local\\\\testing.py\", line 34, in sleep_a_while\\n    raise RuntimeError(\"Woke up too early\")\\n', 'RuntimeError: Woke up too early\\n']), JobInfo(processID='sleep_a_while', type=<Type.process: 'process'>, jobID='job_8', status=<StatusCode.successful: 'successful'>, message=None, created=datetime.datetime(2025, 6, 23, 10, 42, 9, 784606), started=datetime.datetime(2025, 6, 23, 10, 42, 9, 785542), finished=datetime.datetime(2025, 6, 23, 10, 44, 11, 52795), updated=datetime.datetime(2025, 6, 23, 10, 44, 9, 852701), progress=100, links=None, traceback=None), JobInfo(processID='sleep_a_while', type=<Type.process: 'process'>, jobID='job_9', status=<StatusCode.successful: 'successful'>, message=None, created=datetime.datetime(2025, 6, 23, 10, 45, 44, 2009), started=datetime.datetime(2025, 6, 23, 10, 45, 44, 2698), finished=datetime.datetime(2025, 6, 23, 10, 46, 5, 351414), updated=datetime.datetime(2025, 6, 23, 10, 46, 5, 140791), progress=100, links=None, traceback=None), JobInfo(processID='primes_between', type=<Type.process: 'process'>, jobID='job_10', status=<StatusCode.successful: 'successful'>, message='Done', created=datetime.datetime(2025, 6, 23, 10, 45, 56, 511895), started=datetime.datetime(2025, 6, 23, 10, 45, 56, 512566), finished=datetime.datetime(2025, 6, 23, 10, 45, 56, 512713), updated=datetime.datetime(2025, 6, 23, 10, 45, 56, 512692), progress=None, links=None, traceback=None)], links=[])"
      ]
     },
     "execution_count": 8,
     "metadata": {
      "application/json": {
       "root": "JobList object:"
      }
     },
     "output_type": "execute_result"
    }
   ],
   "source": [
    "client.get_jobs()"
   ]
  },
  {
   "cell_type": "code",
   "execution_count": 10,
   "id": "cc034916-02db-4ec2-8682-71710d54edf6",
   "metadata": {},
   "outputs": [
    {
     "data": {
      "application/json": {
       "created": "2025-06-23T10:48:22.084438",
       "jobID": "job_11",
       "processID": "sleep_a_while",
       "status": "accepted",
       "type": "process"
      },
      "text/plain": [
       "JobInfo(processID='sleep_a_while', type=<Type.process: 'process'>, jobID='job_11', status=<StatusCode.accepted: 'accepted'>, message=None, created=datetime.datetime(2025, 6, 23, 10, 48, 22, 84438), started=None, finished=None, updated=None, progress=None, links=None, traceback=None)"
      ]
     },
     "execution_count": 10,
     "metadata": {
      "application/json": {
       "root": "JobInfo object:"
      }
     },
     "output_type": "execute_result"
    }
   ],
   "source": [
    "client.execute_process(process_id=\"sleep_a_while\", request=ProcessRequest())"
   ]
  },
  {
   "cell_type": "code",
   "execution_count": 12,
   "id": "4cd38b1d-5989-4991-9b62-d1981d33a46e",
   "metadata": {},
   "outputs": [
    {
     "data": {
      "application/json": {
       "created": "2025-06-23T10:48:29.039973",
       "jobID": "job_12",
       "processID": "sleep_a_while",
       "status": "accepted",
       "type": "process"
      },
      "text/plain": [
       "JobInfo(processID='sleep_a_while', type=<Type.process: 'process'>, jobID='job_12', status=<StatusCode.accepted: 'accepted'>, message=None, created=datetime.datetime(2025, 6, 23, 10, 48, 29, 39973), started=None, finished=None, updated=None, progress=None, links=None, traceback=None)"
      ]
     },
     "execution_count": 12,
     "metadata": {
      "application/json": {
       "root": "JobInfo object:"
      }
     },
     "output_type": "execute_result"
    }
   ],
   "source": [
    "client.execute_process(process_id=\"sleep_a_while\", request={})"
   ]
  },
  {
   "cell_type": "code",
   "execution_count": 13,
   "id": "9cf5e867-d91e-45dd-91b3-a54bc2d087a7",
   "metadata": {},
   "outputs": [
    {
     "data": {
      "application/json": {
       "jobs": [
        {
         "created": "2025-06-23T10:29:59.741729",
         "finished": "2025-06-23T10:30:09.937777",
         "jobID": "job_0",
         "processID": "sleep_a_while",
         "progress": 100,
         "started": "2025-06-23T10:29:59.743562",
         "status": "successful",
         "type": "process",
         "updated": "2025-06-23T10:30:09.837537"
        },
        {
         "created": "2025-06-23T10:29:59.759168",
         "finished": "2025-06-23T10:30:04.801114",
         "jobID": "job_1",
         "message": "Woke up too early",
         "processID": "sleep_a_while",
         "progress": 50,
         "started": "2025-06-23T10:29:59.759749",
         "status": "failed",
         "traceback": [
          "Traceback (most recent call last):\n",
          "  File \"C:\\Users\\norma\\Projects\\s2gos-client\\s2gos\\server\\services\\local\\job.py\", line 126, in run\n    result = self.function(**self.function_kwargs)\n",
          "  File \"C:\\Users\\norma\\Projects\\s2gos-client\\s2gos\\server\\services\\local\\testing.py\", line 34, in sleep_a_while\n    raise RuntimeError(\"Woke up too early\")\n",
          "RuntimeError: Woke up too early\n"
         ],
         "type": "process",
         "updated": "2025-06-23T10:30:04.801074"
        },
        {
         "created": "2025-06-23T10:29:59.769205",
         "finished": "2025-06-23T10:30:12.972937",
         "jobID": "job_2",
         "processID": "sleep_a_while",
         "progress": 10,
         "started": "2025-06-23T10:29:59.769716",
         "status": "dismissed",
         "type": "process",
         "updated": "2025-06-23T10:30:11.772560"
        },
        {
         "created": "2025-06-23T10:37:12.774585",
         "finished": "2025-06-23T10:37:22.980173",
         "jobID": "job_3",
         "processID": "sleep_a_while",
         "progress": 100,
         "started": "2025-06-23T10:37:12.775754",
         "status": "successful",
         "type": "process",
         "updated": "2025-06-23T10:37:22.879596"
        },
        {
         "created": "2025-06-23T10:37:12.785589",
         "finished": "2025-06-23T10:37:17.807407",
         "jobID": "job_4",
         "message": "Woke up too early",
         "processID": "sleep_a_while",
         "progress": 50,
         "started": "2025-06-23T10:37:12.786539",
         "status": "failed",
         "traceback": [
          "Traceback (most recent call last):\n",
          "  File \"C:\\Users\\norma\\Projects\\s2gos-client\\s2gos\\server\\services\\local\\job.py\", line 126, in run\n    result = self.function(**self.function_kwargs)\n",
          "  File \"C:\\Users\\norma\\Projects\\s2gos-client\\s2gos\\server\\services\\local\\testing.py\", line 34, in sleep_a_while\n    raise RuntimeError(\"Woke up too early\")\n",
          "RuntimeError: Woke up too early\n"
         ],
         "type": "process",
         "updated": "2025-06-23T10:37:17.807363"
        },
        {
         "created": "2025-06-23T10:37:12.794288",
         "finished": "2025-06-23T10:39:14.130043",
         "jobID": "job_5",
         "processID": "sleep_a_while",
         "progress": 100,
         "started": "2025-06-23T10:37:12.795133",
         "status": "successful",
         "type": "process",
         "updated": "2025-06-23T10:39:12.929776"
        },
        {
         "created": "2025-06-23T10:42:09.763654",
         "finished": "2025-06-23T10:42:19.985312",
         "jobID": "job_6",
         "processID": "sleep_a_while",
         "progress": 100,
         "started": "2025-06-23T10:42:09.765137",
         "status": "successful",
         "type": "process",
         "updated": "2025-06-23T10:42:19.885157"
        },
        {
         "created": "2025-06-23T10:42:09.774366",
         "finished": "2025-06-23T10:42:14.835516",
         "jobID": "job_7",
         "message": "Woke up too early",
         "processID": "sleep_a_while",
         "progress": 50,
         "started": "2025-06-23T10:42:09.774869",
         "status": "failed",
         "traceback": [
          "Traceback (most recent call last):\n",
          "  File \"C:\\Users\\norma\\Projects\\s2gos-client\\s2gos\\server\\services\\local\\job.py\", line 126, in run\n    result = self.function(**self.function_kwargs)\n",
          "  File \"C:\\Users\\norma\\Projects\\s2gos-client\\s2gos\\server\\services\\local\\testing.py\", line 34, in sleep_a_while\n    raise RuntimeError(\"Woke up too early\")\n",
          "RuntimeError: Woke up too early\n"
         ],
         "type": "process",
         "updated": "2025-06-23T10:42:14.835487"
        },
        {
         "created": "2025-06-23T10:42:09.784606",
         "finished": "2025-06-23T10:44:11.052795",
         "jobID": "job_8",
         "processID": "sleep_a_while",
         "progress": 100,
         "started": "2025-06-23T10:42:09.785542",
         "status": "successful",
         "type": "process",
         "updated": "2025-06-23T10:44:09.852701"
        },
        {
         "created": "2025-06-23T10:45:44.002009",
         "finished": "2025-06-23T10:46:05.351414",
         "jobID": "job_9",
         "processID": "sleep_a_while",
         "progress": 100,
         "started": "2025-06-23T10:45:44.002698",
         "status": "successful",
         "type": "process",
         "updated": "2025-06-23T10:46:05.140791"
        },
        {
         "created": "2025-06-23T10:45:56.511895",
         "finished": "2025-06-23T10:45:56.512713",
         "jobID": "job_10",
         "message": "Done",
         "processID": "primes_between",
         "started": "2025-06-23T10:45:56.512566",
         "status": "successful",
         "type": "process",
         "updated": "2025-06-23T10:45:56.512692"
        },
        {
         "created": "2025-06-23T10:48:22.084438",
         "jobID": "job_11",
         "processID": "sleep_a_while",
         "progress": 91,
         "started": "2025-06-23T10:48:22.085381",
         "status": "running",
         "type": "process",
         "updated": "2025-06-23T10:48:31.660295"
        },
        {
         "created": "2025-06-23T10:48:29.039973",
         "jobID": "job_12",
         "processID": "sleep_a_while",
         "progress": 26,
         "started": "2025-06-23T10:48:29.047369",
         "status": "running",
         "type": "process",
         "updated": "2025-06-23T10:48:31.659227"
        }
       ],
       "links": []
      },
      "text/plain": [
       "JobList(jobs=[JobInfo(processID='sleep_a_while', type=<Type.process: 'process'>, jobID='job_0', status=<StatusCode.successful: 'successful'>, message=None, created=datetime.datetime(2025, 6, 23, 10, 29, 59, 741729), started=datetime.datetime(2025, 6, 23, 10, 29, 59, 743562), finished=datetime.datetime(2025, 6, 23, 10, 30, 9, 937777), updated=datetime.datetime(2025, 6, 23, 10, 30, 9, 837537), progress=100, links=None, traceback=None), JobInfo(processID='sleep_a_while', type=<Type.process: 'process'>, jobID='job_1', status=<StatusCode.failed: 'failed'>, message='Woke up too early', created=datetime.datetime(2025, 6, 23, 10, 29, 59, 759168), started=datetime.datetime(2025, 6, 23, 10, 29, 59, 759749), finished=datetime.datetime(2025, 6, 23, 10, 30, 4, 801114), updated=datetime.datetime(2025, 6, 23, 10, 30, 4, 801074), progress=50, links=None, traceback=['Traceback (most recent call last):\\n', '  File \"C:\\\\Users\\\\norma\\\\Projects\\\\s2gos-client\\\\s2gos\\\\server\\\\services\\\\local\\\\job.py\", line 126, in run\\n    result = self.function(**self.function_kwargs)\\n', '  File \"C:\\\\Users\\\\norma\\\\Projects\\\\s2gos-client\\\\s2gos\\\\server\\\\services\\\\local\\\\testing.py\", line 34, in sleep_a_while\\n    raise RuntimeError(\"Woke up too early\")\\n', 'RuntimeError: Woke up too early\\n']), JobInfo(processID='sleep_a_while', type=<Type.process: 'process'>, jobID='job_2', status=<StatusCode.dismissed: 'dismissed'>, message=None, created=datetime.datetime(2025, 6, 23, 10, 29, 59, 769205), started=datetime.datetime(2025, 6, 23, 10, 29, 59, 769716), finished=datetime.datetime(2025, 6, 23, 10, 30, 12, 972937), updated=datetime.datetime(2025, 6, 23, 10, 30, 11, 772560), progress=10, links=None, traceback=None), JobInfo(processID='sleep_a_while', type=<Type.process: 'process'>, jobID='job_3', status=<StatusCode.successful: 'successful'>, message=None, created=datetime.datetime(2025, 6, 23, 10, 37, 12, 774585), started=datetime.datetime(2025, 6, 23, 10, 37, 12, 775754), finished=datetime.datetime(2025, 6, 23, 10, 37, 22, 980173), updated=datetime.datetime(2025, 6, 23, 10, 37, 22, 879596), progress=100, links=None, traceback=None), JobInfo(processID='sleep_a_while', type=<Type.process: 'process'>, jobID='job_4', status=<StatusCode.failed: 'failed'>, message='Woke up too early', created=datetime.datetime(2025, 6, 23, 10, 37, 12, 785589), started=datetime.datetime(2025, 6, 23, 10, 37, 12, 786539), finished=datetime.datetime(2025, 6, 23, 10, 37, 17, 807407), updated=datetime.datetime(2025, 6, 23, 10, 37, 17, 807363), progress=50, links=None, traceback=['Traceback (most recent call last):\\n', '  File \"C:\\\\Users\\\\norma\\\\Projects\\\\s2gos-client\\\\s2gos\\\\server\\\\services\\\\local\\\\job.py\", line 126, in run\\n    result = self.function(**self.function_kwargs)\\n', '  File \"C:\\\\Users\\\\norma\\\\Projects\\\\s2gos-client\\\\s2gos\\\\server\\\\services\\\\local\\\\testing.py\", line 34, in sleep_a_while\\n    raise RuntimeError(\"Woke up too early\")\\n', 'RuntimeError: Woke up too early\\n']), JobInfo(processID='sleep_a_while', type=<Type.process: 'process'>, jobID='job_5', status=<StatusCode.successful: 'successful'>, message=None, created=datetime.datetime(2025, 6, 23, 10, 37, 12, 794288), started=datetime.datetime(2025, 6, 23, 10, 37, 12, 795133), finished=datetime.datetime(2025, 6, 23, 10, 39, 14, 130043), updated=datetime.datetime(2025, 6, 23, 10, 39, 12, 929776), progress=100, links=None, traceback=None), JobInfo(processID='sleep_a_while', type=<Type.process: 'process'>, jobID='job_6', status=<StatusCode.successful: 'successful'>, message=None, created=datetime.datetime(2025, 6, 23, 10, 42, 9, 763654), started=datetime.datetime(2025, 6, 23, 10, 42, 9, 765137), finished=datetime.datetime(2025, 6, 23, 10, 42, 19, 985312), updated=datetime.datetime(2025, 6, 23, 10, 42, 19, 885157), progress=100, links=None, traceback=None), JobInfo(processID='sleep_a_while', type=<Type.process: 'process'>, jobID='job_7', status=<StatusCode.failed: 'failed'>, message='Woke up too early', created=datetime.datetime(2025, 6, 23, 10, 42, 9, 774366), started=datetime.datetime(2025, 6, 23, 10, 42, 9, 774869), finished=datetime.datetime(2025, 6, 23, 10, 42, 14, 835516), updated=datetime.datetime(2025, 6, 23, 10, 42, 14, 835487), progress=50, links=None, traceback=['Traceback (most recent call last):\\n', '  File \"C:\\\\Users\\\\norma\\\\Projects\\\\s2gos-client\\\\s2gos\\\\server\\\\services\\\\local\\\\job.py\", line 126, in run\\n    result = self.function(**self.function_kwargs)\\n', '  File \"C:\\\\Users\\\\norma\\\\Projects\\\\s2gos-client\\\\s2gos\\\\server\\\\services\\\\local\\\\testing.py\", line 34, in sleep_a_while\\n    raise RuntimeError(\"Woke up too early\")\\n', 'RuntimeError: Woke up too early\\n']), JobInfo(processID='sleep_a_while', type=<Type.process: 'process'>, jobID='job_8', status=<StatusCode.successful: 'successful'>, message=None, created=datetime.datetime(2025, 6, 23, 10, 42, 9, 784606), started=datetime.datetime(2025, 6, 23, 10, 42, 9, 785542), finished=datetime.datetime(2025, 6, 23, 10, 44, 11, 52795), updated=datetime.datetime(2025, 6, 23, 10, 44, 9, 852701), progress=100, links=None, traceback=None), JobInfo(processID='sleep_a_while', type=<Type.process: 'process'>, jobID='job_9', status=<StatusCode.successful: 'successful'>, message=None, created=datetime.datetime(2025, 6, 23, 10, 45, 44, 2009), started=datetime.datetime(2025, 6, 23, 10, 45, 44, 2698), finished=datetime.datetime(2025, 6, 23, 10, 46, 5, 351414), updated=datetime.datetime(2025, 6, 23, 10, 46, 5, 140791), progress=100, links=None, traceback=None), JobInfo(processID='primes_between', type=<Type.process: 'process'>, jobID='job_10', status=<StatusCode.successful: 'successful'>, message='Done', created=datetime.datetime(2025, 6, 23, 10, 45, 56, 511895), started=datetime.datetime(2025, 6, 23, 10, 45, 56, 512566), finished=datetime.datetime(2025, 6, 23, 10, 45, 56, 512713), updated=datetime.datetime(2025, 6, 23, 10, 45, 56, 512692), progress=None, links=None, traceback=None), JobInfo(processID='sleep_a_while', type=<Type.process: 'process'>, jobID='job_11', status=<StatusCode.running: 'running'>, message=None, created=datetime.datetime(2025, 6, 23, 10, 48, 22, 84438), started=datetime.datetime(2025, 6, 23, 10, 48, 22, 85381), finished=None, updated=datetime.datetime(2025, 6, 23, 10, 48, 31, 660295), progress=91, links=None, traceback=None), JobInfo(processID='sleep_a_while', type=<Type.process: 'process'>, jobID='job_12', status=<StatusCode.running: 'running'>, message=None, created=datetime.datetime(2025, 6, 23, 10, 48, 29, 39973), started=datetime.datetime(2025, 6, 23, 10, 48, 29, 47369), finished=None, updated=datetime.datetime(2025, 6, 23, 10, 48, 31, 659227), progress=26, links=None, traceback=None)], links=[])"
      ]
     },
     "execution_count": 13,
     "metadata": {
      "application/json": {
       "root": "JobList object:"
      }
     },
     "output_type": "execute_result"
    }
   ],
   "source": [
    "client.get_jobs()"
   ]
  },
  {
   "cell_type": "code",
   "execution_count": 15,
   "id": "736d52d8-d91a-435b-8dfb-b016a5139201",
   "metadata": {},
   "outputs": [],
   "source": [
    "for job in client.get_jobs().jobs:\n",
    "    client.dismiss_job(job.jobID)"
   ]
  },
  {
   "cell_type": "code",
   "execution_count": 16,
   "id": "4636fdfc-3f61-40b4-889e-497c2dd50d91",
   "metadata": {},
   "outputs": [
    {
     "data": {
      "application/json": {
       "jobs": [],
       "links": []
      },
      "text/plain": [
       "JobList(jobs=[], links=[])"
      ]
     },
     "execution_count": 16,
     "metadata": {
      "application/json": {
       "root": "JobList object:"
      }
     },
     "output_type": "execute_result"
    }
   ],
   "source": [
    "client.get_jobs()"
   ]
  },
  {
   "cell_type": "code",
   "execution_count": null,
   "id": "4bdb0e32-e041-401a-a25f-f9fe9bcbfdcf",
   "metadata": {},
   "outputs": [],
   "source": []
  }
 ],
 "metadata": {
  "kernelspec": {
   "display_name": "Python 3 (ipykernel)",
   "language": "python",
   "name": "python3"
  },
  "language_info": {
   "codemirror_mode": {
    "name": "ipython",
    "version": 3
   },
   "file_extension": ".py",
   "mimetype": "text/x-python",
   "name": "python",
   "nbconvert_exporter": "python",
   "pygments_lexer": "ipython3",
   "version": "3.13.3"
  }
 },
 "nbformat": 4,
 "nbformat_minor": 5
}
