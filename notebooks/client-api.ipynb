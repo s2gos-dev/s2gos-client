{
 "cells": [
  {
   "cell_type": "code",
   "execution_count": 1,
   "id": "8be0d24e-00ad-4ce0-8217-27a6747b5767",
   "metadata": {},
   "outputs": [],
   "source": [
    "from s2gos.client import Client\n",
    "from s2gos.common.models import Execute"
   ]
  },
  {
   "cell_type": "code",
   "execution_count": 2,
   "id": "6c90402f-b2a2-4e1e-873c-8ceca7780ed6",
   "metadata": {},
   "outputs": [
    {
     "data": {
      "application/json": {
       "access_token": "1234",
       "server_url": "http://localhost:8008",
       "user_name": "forman"
      },
      "text/plain": [
       "<s2gos.client.client.Client at 0x225ad195be0>"
      ]
     },
     "execution_count": 2,
     "metadata": {
      "application/json": {
       "root": "Configuration:"
      }
     },
     "output_type": "execute_result"
    }
   ],
   "source": [
    "client = Client(debug=True)\n",
    "client"
   ]
  },
  {
   "cell_type": "code",
   "execution_count": 3,
   "id": "18cd3a18-73ee-411d-b6bb-8a63a9c2d95c",
   "metadata": {},
   "outputs": [
    {
     "data": {
      "application/json": {
       "description": "Local server implementing the OGC API - Processes 1.0 Standard",
       "links": [],
       "title": "S2GOS API Server (local)"
      },
      "text/plain": [
       "LandingPage(title='S2GOS API Server (local)', description='Local server implementing the OGC API - Processes 1.0 Standard', links=[])"
      ]
     },
     "execution_count": 3,
     "metadata": {
      "application/json": {
       "root": "LandingPage object:"
      }
     },
     "output_type": "execute_result"
    }
   ],
   "source": [
    "client.get_landing_page()"
   ]
  },
  {
   "cell_type": "code",
   "execution_count": 4,
   "id": "ed699a45-ff53-4278-8023-ee131f225088",
   "metadata": {},
   "outputs": [
    {
     "data": {
      "application/json": {
       "conformsTo": [
        "http://www.opengis.net/spec/ogcapi-processes-1/1.0/conf/core",
        "http://www.opengis.net/spec/ogcapi-processes-1/1.0/conf/ogc-process-description",
        "http://www.opengis.net/spec/ogcapi-processes-1/1.0/conf/json",
        "http://www.opengis.net/spec/ogcapi-processes-1/1.0/conf/oas30",
        "http://www.opengis.net/spec/ogcapi-processes-1/1.0/conf/job-list",
        "http://www.opengis.net/spec/ogcapi-processes-1/1.0/conf/dismiss"
       ]
      },
      "text/plain": [
       "ConfClasses(conformsTo=['http://www.opengis.net/spec/ogcapi-processes-1/1.0/conf/core', 'http://www.opengis.net/spec/ogcapi-processes-1/1.0/conf/ogc-process-description', 'http://www.opengis.net/spec/ogcapi-processes-1/1.0/conf/json', 'http://www.opengis.net/spec/ogcapi-processes-1/1.0/conf/oas30', 'http://www.opengis.net/spec/ogcapi-processes-1/1.0/conf/job-list', 'http://www.opengis.net/spec/ogcapi-processes-1/1.0/conf/dismiss'])"
      ]
     },
     "execution_count": 4,
     "metadata": {
      "application/json": {
       "root": "ConfClasses object:"
      }
     },
     "output_type": "execute_result"
    }
   ],
   "source": [
    "client.get_conformance_classes()"
   ]
  },
  {
   "cell_type": "code",
   "execution_count": 5,
   "id": "7154afcd-59a9-484f-8271-1b4773b8c636",
   "metadata": {},
   "outputs": [
    {
     "data": {
      "application/json": {
       "links": [],
       "processes": [
        {
         "description": "Computes 3.142, which will take ~3 seconds",
         "id": "process_0",
         "jobControlOptions": [
          "async-execute",
          "dismiss"
         ],
         "title": "Computes constant 3.142",
         "version": "1.0"
        },
        {
         "description": "Computes 137.036, which will take ~10 seconds",
         "id": "process_1",
         "jobControlOptions": [
          "async-execute",
          "dismiss"
         ],
         "title": "Computes constant 137.036",
         "version": "1.0"
        },
        {
         "description": "Computes 42.0, which will take ~60 seconds",
         "id": "process_2",
         "jobControlOptions": [
          "async-execute",
          "dismiss"
         ],
         "title": "Computes constant 42.0",
         "version": "1.0"
        }
       ]
      },
      "text/plain": [
       "ProcessList(processes=[ProcessSummary(title='Computes constant 3.142', description='Computes 3.142, which will take ~3 seconds', keywords=None, metadata=None, additionalParameters=None, id='process_0', version='1.0', jobControlOptions=[<JobControlOptions.async_execute: 'async-execute'>, <JobControlOptions.dismiss: 'dismiss'>], outputTransmission=None, links=None), ProcessSummary(title='Computes constant 137.036', description='Computes 137.036, which will take ~10 seconds', keywords=None, metadata=None, additionalParameters=None, id='process_1', version='1.0', jobControlOptions=[<JobControlOptions.async_execute: 'async-execute'>, <JobControlOptions.dismiss: 'dismiss'>], outputTransmission=None, links=None), ProcessSummary(title='Computes constant 42.0', description='Computes 42.0, which will take ~60 seconds', keywords=None, metadata=None, additionalParameters=None, id='process_2', version='1.0', jobControlOptions=[<JobControlOptions.async_execute: 'async-execute'>, <JobControlOptions.dismiss: 'dismiss'>], outputTransmission=None, links=None)], links=[])"
      ]
     },
     "execution_count": 5,
     "metadata": {
      "application/json": {
       "root": "ProcessList object:"
      }
     },
     "output_type": "execute_result"
    }
   ],
   "source": [
    "client.get_processes()"
   ]
  },
  {
   "cell_type": "code",
   "execution_count": 6,
   "id": "a629ba21-e389-4131-ae84-2ce5c5fc7aa9",
   "metadata": {},
   "outputs": [
    {
     "data": {
      "application/json": {
       "description": "Computes 3.142, which will take ~3 seconds",
       "id": "process_0",
       "inputs": {
        "duration": {
         "maxOccurs": 1,
         "minOccurs": 0,
         "schema": {
          "additionalProperties": true,
          "default": 3,
          "deprecated": false,
          "exclusiveMaximum": false,
          "exclusiveMinimum": false,
          "minItems": 0,
          "minLength": 0,
          "minProperties": 0,
          "nullable": false,
          "readOnly": false,
          "type": "number",
          "uniqueItems": false,
          "writeOnly": false
         },
         "title": "Duration of the process"
        },
        "fail": {
         "maxOccurs": 1,
         "minOccurs": 0,
         "schema": {
          "additionalProperties": true,
          "default": false,
          "deprecated": false,
          "exclusiveMaximum": false,
          "exclusiveMinimum": false,
          "minItems": 0,
          "minLength": 0,
          "minProperties": 0,
          "nullable": false,
          "readOnly": false,
          "type": "boolean",
          "uniqueItems": false,
          "writeOnly": false
         },
         "title": "Whether to raise an error"
        }
       },
       "jobControlOptions": [
        "async-execute",
        "dismiss"
       ],
       "outputs": {
        "result": {
         "schema": {
          "additionalProperties": true,
          "deprecated": false,
          "exclusiveMaximum": false,
          "exclusiveMinimum": false,
          "minItems": 0,
          "minLength": 0,
          "minProperties": 0,
          "nullable": false,
          "readOnly": false,
          "type": "number",
          "uniqueItems": false,
          "writeOnly": false
         },
         "title": "Result of the computation"
        }
       },
       "title": "Computes constant 3.142",
       "version": "1.0"
      },
      "text/plain": [
       "Process(title='Computes constant 3.142', description='Computes 3.142, which will take ~3 seconds', keywords=None, metadata=None, additionalParameters=None, id='process_0', version='1.0', jobControlOptions=[<JobControlOptions.async_execute: 'async-execute'>, <JobControlOptions.dismiss: 'dismiss'>], outputTransmission=None, links=None, inputs={'duration': InputDescription(title='Duration of the process', description=None, keywords=None, metadata=None, additionalParameters=None, minOccurs=0, maxOccurs=1, schema_=Schema(title=None, multipleOf=None, maximum=None, exclusiveMaximum=False, minimum=None, exclusiveMinimum=False, maxLength=None, minLength=0, pattern=None, maxItems=None, minItems=0, uniqueItems=False, maxProperties=None, minProperties=0, required=None, enum=None, type=<Type1.number: 'number'>, not_=None, allOf=None, oneOf=None, anyOf=None, items=None, properties=None, additionalProperties=True, description=None, format=None, default=3, nullable=False, readOnly=False, writeOnly=False, example=None, deprecated=False, contentMediaType=None, contentEncoding=None, contentSchema=None)), 'fail': InputDescription(title='Whether to raise an error', description=None, keywords=None, metadata=None, additionalParameters=None, minOccurs=0, maxOccurs=1, schema_=Schema(title=None, multipleOf=None, maximum=None, exclusiveMaximum=False, minimum=None, exclusiveMinimum=False, maxLength=None, minLength=0, pattern=None, maxItems=None, minItems=0, uniqueItems=False, maxProperties=None, minProperties=0, required=None, enum=None, type=<Type1.boolean: 'boolean'>, not_=None, allOf=None, oneOf=None, anyOf=None, items=None, properties=None, additionalProperties=True, description=None, format=None, default=False, nullable=False, readOnly=False, writeOnly=False, example=None, deprecated=False, contentMediaType=None, contentEncoding=None, contentSchema=None))}, outputs={'result': OutputDescription(title='Result of the computation', description=None, keywords=None, metadata=None, additionalParameters=None, schema_=Schema(title=None, multipleOf=None, maximum=None, exclusiveMaximum=False, minimum=None, exclusiveMinimum=False, maxLength=None, minLength=0, pattern=None, maxItems=None, minItems=0, uniqueItems=False, maxProperties=None, minProperties=0, required=None, enum=None, type=<Type1.number: 'number'>, not_=None, allOf=None, oneOf=None, anyOf=None, items=None, properties=None, additionalProperties=True, description=None, format=None, default=None, nullable=False, readOnly=False, writeOnly=False, example=None, deprecated=False, contentMediaType=None, contentEncoding=None, contentSchema=None))})"
      ]
     },
     "execution_count": 6,
     "metadata": {
      "application/json": {
       "root": "Process object:"
      }
     },
     "output_type": "execute_result"
    }
   ],
   "source": [
    "client.get_process_description(process_id=\"process_0\")"
   ]
  },
  {
   "cell_type": "code",
   "execution_count": 7,
   "id": "e4e20f28-0ed4-4e30-9fcd-23238a7d06a0",
   "metadata": {},
   "outputs": [
    {
     "data": {
      "application/json": {
       "jobs": [
        {
         "created": "2025-06-11T07:47:07.994243",
         "finished": "2025-06-11T07:47:11.109617",
         "jobID": "job_0",
         "processID": "process_0",
         "progress": 100,
         "started": "2025-06-11T07:47:07.995618",
         "status": "successful",
         "type": "process",
         "updated": "2025-06-11T07:47:11.078986"
        },
        {
         "created": "2025-06-11T07:47:10.051992",
         "finished": "2025-06-11T07:47:13.168939",
         "jobID": "job_1",
         "processID": "process_0",
         "progress": 100,
         "started": "2025-06-11T07:47:10.053026",
         "status": "successful",
         "type": "process",
         "updated": "2025-06-11T07:47:13.138260"
        },
        {
         "created": "2025-06-11T07:50:09.839149",
         "finished": "2025-06-11T07:50:12.937554",
         "jobID": "job_2",
         "processID": "process_0",
         "progress": 100,
         "started": "2025-06-11T07:50:09.839954",
         "status": "successful",
         "type": "process",
         "updated": "2025-06-11T07:50:12.906799"
        },
        {
         "created": "2025-06-11T07:50:11.902862",
         "finished": "2025-06-11T07:50:15.018875",
         "jobID": "job_3",
         "processID": "process_0",
         "progress": 100,
         "started": "2025-06-11T07:50:11.903249",
         "status": "successful",
         "type": "process",
         "updated": "2025-06-11T07:50:14.988464"
        },
        {
         "created": "2025-06-11T07:51:41.557980",
         "finished": "2025-06-11T07:51:44.662356",
         "jobID": "job_4",
         "processID": "process_0",
         "progress": 100,
         "started": "2025-06-11T07:51:41.558400",
         "status": "successful",
         "type": "process",
         "updated": "2025-06-11T07:51:44.631939"
        },
        {
         "created": "2025-06-11T07:51:43.604866",
         "finished": "2025-06-11T07:51:46.710695",
         "jobID": "job_5",
         "processID": "process_0",
         "progress": 100,
         "started": "2025-06-11T07:51:43.605601",
         "status": "successful",
         "type": "process",
         "updated": "2025-06-11T07:51:46.680208"
        },
        {
         "created": "2025-06-11T07:52:55.730874",
         "finished": "2025-06-11T07:52:58.829925",
         "jobID": "job_6",
         "processID": "process_0",
         "progress": 100,
         "started": "2025-06-11T07:52:55.731628",
         "status": "successful",
         "type": "process",
         "updated": "2025-06-11T07:52:58.799584"
        },
        {
         "created": "2025-06-11T07:52:57.815447",
         "finished": "2025-06-11T07:53:00.950141",
         "jobID": "job_7",
         "processID": "process_0",
         "progress": 100,
         "started": "2025-06-11T07:52:57.820549",
         "status": "successful",
         "type": "process",
         "updated": "2025-06-11T07:53:00.919728"
        },
        {
         "created": "2025-06-11T08:08:45.238779",
         "finished": "2025-06-11T08:08:48.394376",
         "jobID": "job_8",
         "processID": "process_0",
         "progress": 100,
         "started": "2025-06-11T08:08:45.239405",
         "status": "successful",
         "type": "process",
         "updated": "2025-06-11T08:08:48.363689"
        },
        {
         "created": "2025-06-11T08:08:47.333829",
         "finished": "2025-06-11T08:08:50.544928",
         "jobID": "job_9",
         "processID": "process_0",
         "progress": 100,
         "started": "2025-06-11T08:08:47.335476",
         "status": "successful",
         "type": "process",
         "updated": "2025-06-11T08:08:50.514165"
        },
        {
         "created": "2025-06-11T08:10:01.418510",
         "finished": "2025-06-11T08:10:04.530060",
         "jobID": "job_10",
         "processID": "process_0",
         "progress": 100,
         "started": "2025-06-11T08:10:01.419243",
         "status": "successful",
         "type": "process",
         "updated": "2025-06-11T08:10:04.499483"
        },
        {
         "created": "2025-06-11T08:10:03.491823",
         "finished": "2025-06-11T08:10:06.644609",
         "jobID": "job_11",
         "processID": "process_0",
         "progress": 100,
         "started": "2025-06-11T08:10:03.492390",
         "status": "successful",
         "type": "process",
         "updated": "2025-06-11T08:10:06.614295"
        }
       ],
       "links": []
      },
      "text/plain": [
       "JobList(jobs=[StatusInfo(processID='process_0', type=<Type.process: 'process'>, jobID='job_0', status=<StatusCode.successful: 'successful'>, message=None, created=datetime.datetime(2025, 6, 11, 7, 47, 7, 994243), started=datetime.datetime(2025, 6, 11, 7, 47, 7, 995618), finished=datetime.datetime(2025, 6, 11, 7, 47, 11, 109617), updated=datetime.datetime(2025, 6, 11, 7, 47, 11, 78986), progress=100, links=None), StatusInfo(processID='process_0', type=<Type.process: 'process'>, jobID='job_1', status=<StatusCode.successful: 'successful'>, message=None, created=datetime.datetime(2025, 6, 11, 7, 47, 10, 51992), started=datetime.datetime(2025, 6, 11, 7, 47, 10, 53026), finished=datetime.datetime(2025, 6, 11, 7, 47, 13, 168939), updated=datetime.datetime(2025, 6, 11, 7, 47, 13, 138260), progress=100, links=None), StatusInfo(processID='process_0', type=<Type.process: 'process'>, jobID='job_2', status=<StatusCode.successful: 'successful'>, message=None, created=datetime.datetime(2025, 6, 11, 7, 50, 9, 839149), started=datetime.datetime(2025, 6, 11, 7, 50, 9, 839954), finished=datetime.datetime(2025, 6, 11, 7, 50, 12, 937554), updated=datetime.datetime(2025, 6, 11, 7, 50, 12, 906799), progress=100, links=None), StatusInfo(processID='process_0', type=<Type.process: 'process'>, jobID='job_3', status=<StatusCode.successful: 'successful'>, message=None, created=datetime.datetime(2025, 6, 11, 7, 50, 11, 902862), started=datetime.datetime(2025, 6, 11, 7, 50, 11, 903249), finished=datetime.datetime(2025, 6, 11, 7, 50, 15, 18875), updated=datetime.datetime(2025, 6, 11, 7, 50, 14, 988464), progress=100, links=None), StatusInfo(processID='process_0', type=<Type.process: 'process'>, jobID='job_4', status=<StatusCode.successful: 'successful'>, message=None, created=datetime.datetime(2025, 6, 11, 7, 51, 41, 557980), started=datetime.datetime(2025, 6, 11, 7, 51, 41, 558400), finished=datetime.datetime(2025, 6, 11, 7, 51, 44, 662356), updated=datetime.datetime(2025, 6, 11, 7, 51, 44, 631939), progress=100, links=None), StatusInfo(processID='process_0', type=<Type.process: 'process'>, jobID='job_5', status=<StatusCode.successful: 'successful'>, message=None, created=datetime.datetime(2025, 6, 11, 7, 51, 43, 604866), started=datetime.datetime(2025, 6, 11, 7, 51, 43, 605601), finished=datetime.datetime(2025, 6, 11, 7, 51, 46, 710695), updated=datetime.datetime(2025, 6, 11, 7, 51, 46, 680208), progress=100, links=None), StatusInfo(processID='process_0', type=<Type.process: 'process'>, jobID='job_6', status=<StatusCode.successful: 'successful'>, message=None, created=datetime.datetime(2025, 6, 11, 7, 52, 55, 730874), started=datetime.datetime(2025, 6, 11, 7, 52, 55, 731628), finished=datetime.datetime(2025, 6, 11, 7, 52, 58, 829925), updated=datetime.datetime(2025, 6, 11, 7, 52, 58, 799584), progress=100, links=None), StatusInfo(processID='process_0', type=<Type.process: 'process'>, jobID='job_7', status=<StatusCode.successful: 'successful'>, message=None, created=datetime.datetime(2025, 6, 11, 7, 52, 57, 815447), started=datetime.datetime(2025, 6, 11, 7, 52, 57, 820549), finished=datetime.datetime(2025, 6, 11, 7, 53, 0, 950141), updated=datetime.datetime(2025, 6, 11, 7, 53, 0, 919728), progress=100, links=None), StatusInfo(processID='process_0', type=<Type.process: 'process'>, jobID='job_8', status=<StatusCode.successful: 'successful'>, message=None, created=datetime.datetime(2025, 6, 11, 8, 8, 45, 238779), started=datetime.datetime(2025, 6, 11, 8, 8, 45, 239405), finished=datetime.datetime(2025, 6, 11, 8, 8, 48, 394376), updated=datetime.datetime(2025, 6, 11, 8, 8, 48, 363689), progress=100, links=None), StatusInfo(processID='process_0', type=<Type.process: 'process'>, jobID='job_9', status=<StatusCode.successful: 'successful'>, message=None, created=datetime.datetime(2025, 6, 11, 8, 8, 47, 333829), started=datetime.datetime(2025, 6, 11, 8, 8, 47, 335476), finished=datetime.datetime(2025, 6, 11, 8, 8, 50, 544928), updated=datetime.datetime(2025, 6, 11, 8, 8, 50, 514165), progress=100, links=None), StatusInfo(processID='process_0', type=<Type.process: 'process'>, jobID='job_10', status=<StatusCode.successful: 'successful'>, message=None, created=datetime.datetime(2025, 6, 11, 8, 10, 1, 418510), started=datetime.datetime(2025, 6, 11, 8, 10, 1, 419243), finished=datetime.datetime(2025, 6, 11, 8, 10, 4, 530060), updated=datetime.datetime(2025, 6, 11, 8, 10, 4, 499483), progress=100, links=None), StatusInfo(processID='process_0', type=<Type.process: 'process'>, jobID='job_11', status=<StatusCode.successful: 'successful'>, message=None, created=datetime.datetime(2025, 6, 11, 8, 10, 3, 491823), started=datetime.datetime(2025, 6, 11, 8, 10, 3, 492390), finished=datetime.datetime(2025, 6, 11, 8, 10, 6, 644609), updated=datetime.datetime(2025, 6, 11, 8, 10, 6, 614295), progress=100, links=None)], links=[])"
      ]
     },
     "execution_count": 7,
     "metadata": {
      "application/json": {
       "root": "JobList object:"
      }
     },
     "output_type": "execute_result"
    }
   ],
   "source": [
    "client.get_jobs()"
   ]
  },
  {
   "cell_type": "code",
   "execution_count": 8,
   "id": "cc034916-02db-4ec2-8682-71710d54edf6",
   "metadata": {},
   "outputs": [
    {
     "name": "stderr",
     "output_type": "stream",
     "text": [
      "C:\\Users\\norma\\miniforge3\\envs\\s2gos\\Lib\\site-packages\\pydantic\\main.py:463: UserWarning: Pydantic serializer warnings:\n",
      "  PydanticSerializationUnexpectedValue(Expected `enum` - serialized value may not be as expected [input_value='raw', input_type=str])\n",
      "  return self.__pydantic_serializer__.to_python(\n"
     ]
    },
    {
     "data": {
      "application/json": {
       "created": "2025-06-11T08:16:41.879841",
       "jobID": "job_12",
       "processID": "process_0",
       "status": "accepted",
       "type": "process"
      },
      "text/plain": [
       "StatusInfo(processID='process_0', type=<Type.process: 'process'>, jobID='job_12', status=<StatusCode.accepted: 'accepted'>, message=None, created=datetime.datetime(2025, 6, 11, 8, 16, 41, 879841), started=None, finished=None, updated=None, progress=None, links=None)"
      ]
     },
     "execution_count": 8,
     "metadata": {
      "application/json": {
       "root": "StatusInfo object:"
      }
     },
     "output_type": "execute_result"
    }
   ],
   "source": [
    "client.execute(process_id=\"process_0\", request=Execute())"
   ]
  },
  {
   "cell_type": "code",
   "execution_count": 9,
   "id": "4cd38b1d-5989-4991-9b62-d1981d33a46e",
   "metadata": {},
   "outputs": [
    {
     "data": {
      "application/json": {
       "created": "2025-06-11T08:16:43.915506",
       "jobID": "job_13",
       "processID": "process_0",
       "status": "accepted",
       "type": "process"
      },
      "text/plain": [
       "StatusInfo(processID='process_0', type=<Type.process: 'process'>, jobID='job_13', status=<StatusCode.accepted: 'accepted'>, message=None, created=datetime.datetime(2025, 6, 11, 8, 16, 43, 915506), started=None, finished=None, updated=None, progress=None, links=None)"
      ]
     },
     "execution_count": 9,
     "metadata": {
      "application/json": {
       "root": "StatusInfo object:"
      }
     },
     "output_type": "execute_result"
    }
   ],
   "source": [
    "client.execute(process_id=\"process_0\", request={})"
   ]
  },
  {
   "cell_type": "code",
   "execution_count": 10,
   "id": "9cf5e867-d91e-45dd-91b3-a54bc2d087a7",
   "metadata": {},
   "outputs": [
    {
     "data": {
      "application/json": {
       "jobs": [
        {
         "created": "2025-06-11T07:47:07.994243",
         "finished": "2025-06-11T07:47:11.109617",
         "jobID": "job_0",
         "processID": "process_0",
         "progress": 100,
         "started": "2025-06-11T07:47:07.995618",
         "status": "successful",
         "type": "process",
         "updated": "2025-06-11T07:47:11.078986"
        },
        {
         "created": "2025-06-11T07:47:10.051992",
         "finished": "2025-06-11T07:47:13.168939",
         "jobID": "job_1",
         "processID": "process_0",
         "progress": 100,
         "started": "2025-06-11T07:47:10.053026",
         "status": "successful",
         "type": "process",
         "updated": "2025-06-11T07:47:13.138260"
        },
        {
         "created": "2025-06-11T07:50:09.839149",
         "finished": "2025-06-11T07:50:12.937554",
         "jobID": "job_2",
         "processID": "process_0",
         "progress": 100,
         "started": "2025-06-11T07:50:09.839954",
         "status": "successful",
         "type": "process",
         "updated": "2025-06-11T07:50:12.906799"
        },
        {
         "created": "2025-06-11T07:50:11.902862",
         "finished": "2025-06-11T07:50:15.018875",
         "jobID": "job_3",
         "processID": "process_0",
         "progress": 100,
         "started": "2025-06-11T07:50:11.903249",
         "status": "successful",
         "type": "process",
         "updated": "2025-06-11T07:50:14.988464"
        },
        {
         "created": "2025-06-11T07:51:41.557980",
         "finished": "2025-06-11T07:51:44.662356",
         "jobID": "job_4",
         "processID": "process_0",
         "progress": 100,
         "started": "2025-06-11T07:51:41.558400",
         "status": "successful",
         "type": "process",
         "updated": "2025-06-11T07:51:44.631939"
        },
        {
         "created": "2025-06-11T07:51:43.604866",
         "finished": "2025-06-11T07:51:46.710695",
         "jobID": "job_5",
         "processID": "process_0",
         "progress": 100,
         "started": "2025-06-11T07:51:43.605601",
         "status": "successful",
         "type": "process",
         "updated": "2025-06-11T07:51:46.680208"
        },
        {
         "created": "2025-06-11T07:52:55.730874",
         "finished": "2025-06-11T07:52:58.829925",
         "jobID": "job_6",
         "processID": "process_0",
         "progress": 100,
         "started": "2025-06-11T07:52:55.731628",
         "status": "successful",
         "type": "process",
         "updated": "2025-06-11T07:52:58.799584"
        },
        {
         "created": "2025-06-11T07:52:57.815447",
         "finished": "2025-06-11T07:53:00.950141",
         "jobID": "job_7",
         "processID": "process_0",
         "progress": 100,
         "started": "2025-06-11T07:52:57.820549",
         "status": "successful",
         "type": "process",
         "updated": "2025-06-11T07:53:00.919728"
        },
        {
         "created": "2025-06-11T08:08:45.238779",
         "finished": "2025-06-11T08:08:48.394376",
         "jobID": "job_8",
         "processID": "process_0",
         "progress": 100,
         "started": "2025-06-11T08:08:45.239405",
         "status": "successful",
         "type": "process",
         "updated": "2025-06-11T08:08:48.363689"
        },
        {
         "created": "2025-06-11T08:08:47.333829",
         "finished": "2025-06-11T08:08:50.544928",
         "jobID": "job_9",
         "processID": "process_0",
         "progress": 100,
         "started": "2025-06-11T08:08:47.335476",
         "status": "successful",
         "type": "process",
         "updated": "2025-06-11T08:08:50.514165"
        },
        {
         "created": "2025-06-11T08:10:01.418510",
         "finished": "2025-06-11T08:10:04.530060",
         "jobID": "job_10",
         "processID": "process_0",
         "progress": 100,
         "started": "2025-06-11T08:10:01.419243",
         "status": "successful",
         "type": "process",
         "updated": "2025-06-11T08:10:04.499483"
        },
        {
         "created": "2025-06-11T08:10:03.491823",
         "finished": "2025-06-11T08:10:06.644609",
         "jobID": "job_11",
         "processID": "process_0",
         "progress": 100,
         "started": "2025-06-11T08:10:03.492390",
         "status": "successful",
         "type": "process",
         "updated": "2025-06-11T08:10:06.614295"
        },
        {
         "created": "2025-06-11T08:16:41.879841",
         "finished": "2025-06-11T08:16:44.995710",
         "jobID": "job_12",
         "processID": "process_0",
         "progress": 100,
         "started": "2025-06-11T08:16:41.880367",
         "status": "successful",
         "type": "process",
         "updated": "2025-06-11T08:16:44.965367"
        },
        {
         "created": "2025-06-11T08:16:43.915506",
         "jobID": "job_13",
         "processID": "process_0",
         "progress": 66,
         "started": "2025-06-11T08:16:43.915910",
         "status": "running",
         "type": "process",
         "updated": "2025-06-11T08:16:45.938540"
        }
       ],
       "links": []
      },
      "text/plain": [
       "JobList(jobs=[StatusInfo(processID='process_0', type=<Type.process: 'process'>, jobID='job_0', status=<StatusCode.successful: 'successful'>, message=None, created=datetime.datetime(2025, 6, 11, 7, 47, 7, 994243), started=datetime.datetime(2025, 6, 11, 7, 47, 7, 995618), finished=datetime.datetime(2025, 6, 11, 7, 47, 11, 109617), updated=datetime.datetime(2025, 6, 11, 7, 47, 11, 78986), progress=100, links=None), StatusInfo(processID='process_0', type=<Type.process: 'process'>, jobID='job_1', status=<StatusCode.successful: 'successful'>, message=None, created=datetime.datetime(2025, 6, 11, 7, 47, 10, 51992), started=datetime.datetime(2025, 6, 11, 7, 47, 10, 53026), finished=datetime.datetime(2025, 6, 11, 7, 47, 13, 168939), updated=datetime.datetime(2025, 6, 11, 7, 47, 13, 138260), progress=100, links=None), StatusInfo(processID='process_0', type=<Type.process: 'process'>, jobID='job_2', status=<StatusCode.successful: 'successful'>, message=None, created=datetime.datetime(2025, 6, 11, 7, 50, 9, 839149), started=datetime.datetime(2025, 6, 11, 7, 50, 9, 839954), finished=datetime.datetime(2025, 6, 11, 7, 50, 12, 937554), updated=datetime.datetime(2025, 6, 11, 7, 50, 12, 906799), progress=100, links=None), StatusInfo(processID='process_0', type=<Type.process: 'process'>, jobID='job_3', status=<StatusCode.successful: 'successful'>, message=None, created=datetime.datetime(2025, 6, 11, 7, 50, 11, 902862), started=datetime.datetime(2025, 6, 11, 7, 50, 11, 903249), finished=datetime.datetime(2025, 6, 11, 7, 50, 15, 18875), updated=datetime.datetime(2025, 6, 11, 7, 50, 14, 988464), progress=100, links=None), StatusInfo(processID='process_0', type=<Type.process: 'process'>, jobID='job_4', status=<StatusCode.successful: 'successful'>, message=None, created=datetime.datetime(2025, 6, 11, 7, 51, 41, 557980), started=datetime.datetime(2025, 6, 11, 7, 51, 41, 558400), finished=datetime.datetime(2025, 6, 11, 7, 51, 44, 662356), updated=datetime.datetime(2025, 6, 11, 7, 51, 44, 631939), progress=100, links=None), StatusInfo(processID='process_0', type=<Type.process: 'process'>, jobID='job_5', status=<StatusCode.successful: 'successful'>, message=None, created=datetime.datetime(2025, 6, 11, 7, 51, 43, 604866), started=datetime.datetime(2025, 6, 11, 7, 51, 43, 605601), finished=datetime.datetime(2025, 6, 11, 7, 51, 46, 710695), updated=datetime.datetime(2025, 6, 11, 7, 51, 46, 680208), progress=100, links=None), StatusInfo(processID='process_0', type=<Type.process: 'process'>, jobID='job_6', status=<StatusCode.successful: 'successful'>, message=None, created=datetime.datetime(2025, 6, 11, 7, 52, 55, 730874), started=datetime.datetime(2025, 6, 11, 7, 52, 55, 731628), finished=datetime.datetime(2025, 6, 11, 7, 52, 58, 829925), updated=datetime.datetime(2025, 6, 11, 7, 52, 58, 799584), progress=100, links=None), StatusInfo(processID='process_0', type=<Type.process: 'process'>, jobID='job_7', status=<StatusCode.successful: 'successful'>, message=None, created=datetime.datetime(2025, 6, 11, 7, 52, 57, 815447), started=datetime.datetime(2025, 6, 11, 7, 52, 57, 820549), finished=datetime.datetime(2025, 6, 11, 7, 53, 0, 950141), updated=datetime.datetime(2025, 6, 11, 7, 53, 0, 919728), progress=100, links=None), StatusInfo(processID='process_0', type=<Type.process: 'process'>, jobID='job_8', status=<StatusCode.successful: 'successful'>, message=None, created=datetime.datetime(2025, 6, 11, 8, 8, 45, 238779), started=datetime.datetime(2025, 6, 11, 8, 8, 45, 239405), finished=datetime.datetime(2025, 6, 11, 8, 8, 48, 394376), updated=datetime.datetime(2025, 6, 11, 8, 8, 48, 363689), progress=100, links=None), StatusInfo(processID='process_0', type=<Type.process: 'process'>, jobID='job_9', status=<StatusCode.successful: 'successful'>, message=None, created=datetime.datetime(2025, 6, 11, 8, 8, 47, 333829), started=datetime.datetime(2025, 6, 11, 8, 8, 47, 335476), finished=datetime.datetime(2025, 6, 11, 8, 8, 50, 544928), updated=datetime.datetime(2025, 6, 11, 8, 8, 50, 514165), progress=100, links=None), StatusInfo(processID='process_0', type=<Type.process: 'process'>, jobID='job_10', status=<StatusCode.successful: 'successful'>, message=None, created=datetime.datetime(2025, 6, 11, 8, 10, 1, 418510), started=datetime.datetime(2025, 6, 11, 8, 10, 1, 419243), finished=datetime.datetime(2025, 6, 11, 8, 10, 4, 530060), updated=datetime.datetime(2025, 6, 11, 8, 10, 4, 499483), progress=100, links=None), StatusInfo(processID='process_0', type=<Type.process: 'process'>, jobID='job_11', status=<StatusCode.successful: 'successful'>, message=None, created=datetime.datetime(2025, 6, 11, 8, 10, 3, 491823), started=datetime.datetime(2025, 6, 11, 8, 10, 3, 492390), finished=datetime.datetime(2025, 6, 11, 8, 10, 6, 644609), updated=datetime.datetime(2025, 6, 11, 8, 10, 6, 614295), progress=100, links=None), StatusInfo(processID='process_0', type=<Type.process: 'process'>, jobID='job_12', status=<StatusCode.successful: 'successful'>, message=None, created=datetime.datetime(2025, 6, 11, 8, 16, 41, 879841), started=datetime.datetime(2025, 6, 11, 8, 16, 41, 880367), finished=datetime.datetime(2025, 6, 11, 8, 16, 44, 995710), updated=datetime.datetime(2025, 6, 11, 8, 16, 44, 965367), progress=100, links=None), StatusInfo(processID='process_0', type=<Type.process: 'process'>, jobID='job_13', status=<StatusCode.running: 'running'>, message=None, created=datetime.datetime(2025, 6, 11, 8, 16, 43, 915506), started=datetime.datetime(2025, 6, 11, 8, 16, 43, 915910), finished=None, updated=datetime.datetime(2025, 6, 11, 8, 16, 45, 938540), progress=66, links=None)], links=[])"
      ]
     },
     "execution_count": 10,
     "metadata": {
      "application/json": {
       "root": "JobList object:"
      }
     },
     "output_type": "execute_result"
    }
   ],
   "source": [
    "client.get_jobs()"
   ]
  },
  {
   "cell_type": "code",
   "execution_count": null,
   "id": "736d52d8-d91a-435b-8dfb-b016a5139201",
   "metadata": {},
   "outputs": [],
   "source": []
  }
 ],
 "metadata": {
  "kernelspec": {
   "display_name": "Python 3 (ipykernel)",
   "language": "python",
   "name": "python3"
  },
  "language_info": {
   "codemirror_mode": {
    "name": "ipython",
    "version": 3
   },
   "file_extension": ".py",
   "mimetype": "text/x-python",
   "name": "python",
   "nbconvert_exporter": "python",
   "pygments_lexer": "ipython3",
   "version": "3.13.3"
  }
 },
 "nbformat": 4,
 "nbformat_minor": 5
}
